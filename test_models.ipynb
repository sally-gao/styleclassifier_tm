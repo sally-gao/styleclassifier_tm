{
 "cells": [
  {
   "cell_type": "code",
   "execution_count": 5,
   "metadata": {},
   "outputs": [],
   "source": [
    "import pandas as pd\n",
    "import numpy as np\n",
    "import pickle"
   ]
  },
  {
   "cell_type": "code",
   "execution_count": 6,
   "metadata": {},
   "outputs": [],
   "source": [
    "from sklearn.model_selection import GridSearchCV, StratifiedKFold, RandomizedSearchCV\n",
    "from sklearn.metrics import classification_report\n",
    "from sklearn.svm import SVC"
   ]
  },
  {
   "cell_type": "markdown",
   "metadata": {},
   "source": [
    "# Import Dataframe"
   ]
  },
  {
   "cell_type": "code",
   "execution_count": 7,
   "metadata": {},
   "outputs": [],
   "source": [
    "# Load pickled dataframe\n",
    "\n",
    "file = 'pickles/features_04_30.pkl'\n",
    "\n",
    "with open(file, 'rb') as f:\n",
    "    df_features = pickle.load(f)"
   ]
  },
  {
   "cell_type": "code",
   "execution_count": 8,
   "metadata": {},
   "outputs": [
    {
     "data": {
      "text/html": [
       "<div>\n",
       "<style>\n",
       "    .dataframe thead tr:only-child th {\n",
       "        text-align: right;\n",
       "    }\n",
       "\n",
       "    .dataframe thead th {\n",
       "        text-align: left;\n",
       "    }\n",
       "\n",
       "    .dataframe tbody tr th {\n",
       "        vertical-align: top;\n",
       "    }\n",
       "</style>\n",
       "<table border=\"1\" class=\"dataframe\">\n",
       "  <thead>\n",
       "    <tr style=\"text-align: right;\">\n",
       "      <th></th>\n",
       "      <th>(., '')</th>\n",
       "      <th>(PRP, VBD)</th>\n",
       "      <th>``</th>\n",
       "      <th>(,, '')</th>\n",
       "      <th>('', PRP, VBD)</th>\n",
       "      <th>(,, ADP)</th>\n",
       "      <th>(NOUN, VBD)</th>\n",
       "      <th>VBD</th>\n",
       "      <th>(VBD, .)</th>\n",
       "      <th>(VBD, ,)</th>\n",
       "      <th>...</th>\n",
       "      <th>('', PRP)</th>\n",
       "      <th>(,, VBD)</th>\n",
       "      <th>source</th>\n",
       "      <th>readability_SMOG</th>\n",
       "      <th>avg_sent_len</th>\n",
       "      <th>Num_Sentences</th>\n",
       "      <th>sd_sent_len</th>\n",
       "      <th>norm_stop_freq</th>\n",
       "      <th>norm_punct_freq</th>\n",
       "      <th>norm_funct_freq</th>\n",
       "    </tr>\n",
       "  </thead>\n",
       "  <tbody>\n",
       "    <tr>\n",
       "      <th>0</th>\n",
       "      <td>0.0</td>\n",
       "      <td>0.000000</td>\n",
       "      <td>0.000000</td>\n",
       "      <td>0.0</td>\n",
       "      <td>0.0</td>\n",
       "      <td>0.013333</td>\n",
       "      <td>0.013333</td>\n",
       "      <td>0.013158</td>\n",
       "      <td>0.0</td>\n",
       "      <td>0.0</td>\n",
       "      <td>...</td>\n",
       "      <td>0.0</td>\n",
       "      <td>0.0</td>\n",
       "      <td>economist</td>\n",
       "      <td>11.2</td>\n",
       "      <td>20.666667</td>\n",
       "      <td>3</td>\n",
       "      <td>11.841546</td>\n",
       "      <td>0.421875</td>\n",
       "      <td>0.234375</td>\n",
       "      <td>0.390625</td>\n",
       "    </tr>\n",
       "    <tr>\n",
       "      <th>1</th>\n",
       "      <td>0.0</td>\n",
       "      <td>0.000000</td>\n",
       "      <td>0.000000</td>\n",
       "      <td>0.0</td>\n",
       "      <td>0.0</td>\n",
       "      <td>0.013514</td>\n",
       "      <td>0.000000</td>\n",
       "      <td>0.013333</td>\n",
       "      <td>0.0</td>\n",
       "      <td>0.0</td>\n",
       "      <td>...</td>\n",
       "      <td>0.0</td>\n",
       "      <td>0.0</td>\n",
       "      <td>economist</td>\n",
       "      <td>10.7</td>\n",
       "      <td>17.000000</td>\n",
       "      <td>4</td>\n",
       "      <td>3.391165</td>\n",
       "      <td>0.500000</td>\n",
       "      <td>0.132353</td>\n",
       "      <td>0.470588</td>\n",
       "    </tr>\n",
       "    <tr>\n",
       "      <th>2</th>\n",
       "      <td>0.0</td>\n",
       "      <td>0.000000</td>\n",
       "      <td>0.000000</td>\n",
       "      <td>0.0</td>\n",
       "      <td>0.0</td>\n",
       "      <td>0.012346</td>\n",
       "      <td>0.000000</td>\n",
       "      <td>0.000000</td>\n",
       "      <td>0.0</td>\n",
       "      <td>0.0</td>\n",
       "      <td>...</td>\n",
       "      <td>0.0</td>\n",
       "      <td>0.0</td>\n",
       "      <td>economist</td>\n",
       "      <td>5.7</td>\n",
       "      <td>13.800000</td>\n",
       "      <td>5</td>\n",
       "      <td>5.844656</td>\n",
       "      <td>0.422535</td>\n",
       "      <td>0.197183</td>\n",
       "      <td>0.436620</td>\n",
       "    </tr>\n",
       "    <tr>\n",
       "      <th>3</th>\n",
       "      <td>0.0</td>\n",
       "      <td>0.009346</td>\n",
       "      <td>0.000000</td>\n",
       "      <td>0.0</td>\n",
       "      <td>0.0</td>\n",
       "      <td>0.000000</td>\n",
       "      <td>0.000000</td>\n",
       "      <td>0.018519</td>\n",
       "      <td>0.0</td>\n",
       "      <td>0.0</td>\n",
       "      <td>...</td>\n",
       "      <td>0.0</td>\n",
       "      <td>0.0</td>\n",
       "      <td>economist</td>\n",
       "      <td>11.6</td>\n",
       "      <td>17.800000</td>\n",
       "      <td>5</td>\n",
       "      <td>7.626270</td>\n",
       "      <td>0.422222</td>\n",
       "      <td>0.255556</td>\n",
       "      <td>0.411111</td>\n",
       "    </tr>\n",
       "    <tr>\n",
       "      <th>4</th>\n",
       "      <td>0.0</td>\n",
       "      <td>0.000000</td>\n",
       "      <td>0.013889</td>\n",
       "      <td>0.0</td>\n",
       "      <td>0.0</td>\n",
       "      <td>0.000000</td>\n",
       "      <td>0.000000</td>\n",
       "      <td>0.000000</td>\n",
       "      <td>0.0</td>\n",
       "      <td>0.0</td>\n",
       "      <td>...</td>\n",
       "      <td>0.0</td>\n",
       "      <td>0.0</td>\n",
       "      <td>economist</td>\n",
       "      <td>13.6</td>\n",
       "      <td>18.666667</td>\n",
       "      <td>3</td>\n",
       "      <td>7.408704</td>\n",
       "      <td>0.362069</td>\n",
       "      <td>0.327586</td>\n",
       "      <td>0.344828</td>\n",
       "    </tr>\n",
       "  </tbody>\n",
       "</table>\n",
       "<p>5 rows × 24 columns</p>\n",
       "</div>"
      ],
      "text/plain": [
       "   (., '')  (PRP, VBD)        ``  (,, '')  ('', PRP, VBD)  (,, ADP)  \\\n",
       "0      0.0    0.000000  0.000000      0.0             0.0  0.013333   \n",
       "1      0.0    0.000000  0.000000      0.0             0.0  0.013514   \n",
       "2      0.0    0.000000  0.000000      0.0             0.0  0.012346   \n",
       "3      0.0    0.009346  0.000000      0.0             0.0  0.000000   \n",
       "4      0.0    0.000000  0.013889      0.0             0.0  0.000000   \n",
       "\n",
       "   (NOUN, VBD)       VBD  (VBD, .)  (VBD, ,)       ...         ('', PRP)  \\\n",
       "0     0.013333  0.013158       0.0       0.0       ...               0.0   \n",
       "1     0.000000  0.013333       0.0       0.0       ...               0.0   \n",
       "2     0.000000  0.000000       0.0       0.0       ...               0.0   \n",
       "3     0.000000  0.018519       0.0       0.0       ...               0.0   \n",
       "4     0.000000  0.000000       0.0       0.0       ...               0.0   \n",
       "\n",
       "   (,, VBD)     source  readability_SMOG  avg_sent_len  Num_Sentences  \\\n",
       "0       0.0  economist              11.2     20.666667              3   \n",
       "1       0.0  economist              10.7     17.000000              4   \n",
       "2       0.0  economist               5.7     13.800000              5   \n",
       "3       0.0  economist              11.6     17.800000              5   \n",
       "4       0.0  economist              13.6     18.666667              3   \n",
       "\n",
       "  sd_sent_len  norm_stop_freq  norm_punct_freq  norm_funct_freq  \n",
       "0   11.841546        0.421875         0.234375         0.390625  \n",
       "1    3.391165        0.500000         0.132353         0.470588  \n",
       "2    5.844656        0.422535         0.197183         0.436620  \n",
       "3    7.626270        0.422222         0.255556         0.411111  \n",
       "4    7.408704        0.362069         0.327586         0.344828  \n",
       "\n",
       "[5 rows x 24 columns]"
      ]
     },
     "execution_count": 8,
     "metadata": {},
     "output_type": "execute_result"
    }
   ],
   "source": [
    "df_features.head()"
   ]
  },
  {
   "cell_type": "markdown",
   "metadata": {},
   "source": [
    "# A bunch of classifiers"
   ]
  },
  {
   "cell_type": "code",
   "execution_count": 9,
   "metadata": {},
   "outputs": [
    {
     "name": "stderr",
     "output_type": "stream",
     "text": [
      "/Users/sally/anaconda/lib/python3.6/site-packages/sklearn/cross_validation.py:41: DeprecationWarning: This module was deprecated in version 0.18 in favor of the model_selection module into which all the refactored classes and functions are moved. Also note that the interface of the new CV iterators are different from that of this module. This module will be removed in 0.20.\n",
      "  \"This module will be removed in 0.20.\", DeprecationWarning)\n"
     ]
    }
   ],
   "source": [
    "from sklearn.model_selection import train_test_split\n",
    "from sklearn import model_selection\n",
    "from sklearn.linear_model import LogisticRegression\n",
    "from sklearn.tree import DecisionTreeClassifier\n",
    "from sklearn.neighbors import KNeighborsClassifier\n",
    "from sklearn.discriminant_analysis import LinearDiscriminantAnalysis\n",
    "from sklearn.naive_bayes import GaussianNB\n",
    "from sklearn.svm import SVC\n",
    "from sklearn.metrics import classification_report\n",
    "from sklearn.metrics import precision_recall_fscore_support,accuracy_score,f1_score,precision_score,recall_score\n",
    "from xgboost import XGBClassifier"
   ]
  },
  {
   "cell_type": "code",
   "execution_count": 11,
   "metadata": {},
   "outputs": [],
   "source": [
    "# prepare models\n",
    "models = []\n",
    "models.append(('LR', LogisticRegression(multi_class='multinomial',solver='lbfgs')))\n",
    "#models.append(('LDA', LinearDiscriminantAnalysis()))\n",
    "models.append(('KNN', KNeighborsClassifier()))\n",
    "#models.append(('CART', DecisionTreeClassifier()))\n",
    "models.append(('NB', GaussianNB()))\n",
    "models.append(('XGBoost',XGBClassifier( n_estimators=1000)))\n",
    "#models.append(('SVM', SVC(kernel = 'linear')))"
   ]
  },
  {
   "cell_type": "code",
   "execution_count": 12,
   "metadata": {},
   "outputs": [
    {
     "name": "stdout",
     "output_type": "stream",
     "text": [
      "52812\n"
     ]
    }
   ],
   "source": [
    "# X -> features, y -> label\n",
    "X=df_features.loc[:, df_features.columns != 'source']\n",
    "\n",
    "#X=df_features[['readability_SMOG','avg_sent_len','sd_sent_len','norm_stop_freq','norm_punct_freq','norm_funct_freq']]\n",
    "y=df_features.source\n",
    "print(len(X))"
   ]
  },
  {
   "cell_type": "code",
   "execution_count": 13,
   "metadata": {},
   "outputs": [
    {
     "name": "stdout",
     "output_type": "stream",
     "text": [
      "Training  LR\n",
      "Getting testing error ...\n",
      "Getting training error ...\n",
      "\n",
      "\n",
      "Training  KNN\n",
      "Getting testing error ...\n",
      "Getting training error ...\n",
      "\n",
      "\n",
      "Training  NB\n",
      "Getting testing error ...\n",
      "Getting training error ...\n",
      "\n",
      "\n",
      "Training  XGBoost\n",
      "Getting testing error ...\n",
      "Getting training error ...\n",
      "\n",
      "\n"
     ]
    }
   ],
   "source": [
    "X_train, X_test, y_train, y_test = train_test_split(X, y,stratify=y,test_size=0.3, random_state = 0)\n",
    "\n",
    "val_accuracy_all={}\n",
    "val_fscore_all={}\n",
    "val_precision_all={}\n",
    "val_recall_all={}\n",
    "\n",
    "train_accuracy_all={}\n",
    "train_fscore_all={}\n",
    "train_precision_all={}\n",
    "train_recall_all={}\n",
    "\n",
    "for name,model in models:\n",
    "    \n",
    "    print('Training ', name)\n",
    "    clf=model.fit(X_train,y_train)\n",
    "    \n",
    "    print('Getting testing error ...')\n",
    "    y_pred=clf.predict(X_test)\n",
    "    \n",
    "    val_precision_all[name]=precision_score(y_test,y_pred,average='macro')\n",
    "    val_recall_all[name]=recall_score(y_test,y_pred,average='macro')\n",
    "    val_fscore_all[name]=f1_score(y_test, y_pred, average='macro')\n",
    "    val_accuracy_all[name]=accuracy_score(y_test, y_pred)\n",
    "\n",
    "    print('Getting training error ...')\n",
    "    y_train_pred=clf.predict(X_train)\n",
    "    \n",
    "    train_precision_all[name]=precision_score(y_train,y_train_pred,average='macro')\n",
    "    train_recall_all[name]=recall_score(y_train,y_train_pred,average='macro')\n",
    "    train_fscore_all[name]=f1_score(y_train,y_train_pred, average='macro')\n",
    "    train_accuracy_all[name]=accuracy_score(y_train,y_train_pred)\n",
    "    \n",
    "    print('\\n')\n",
    "\n",
    "val_classifier_results=pd.DataFrame({'Accuracy':pd.Series(val_accuracy_all),'Precision':pd.Series(val_precision_all),'Recall':pd.Series(val_recall_all),'F1_Score':pd.Series(val_fscore_all)}) \n",
    "\n",
    "train_classifier_results=pd.DataFrame({'Accuracy':pd.Series(train_accuracy_all),'Precision':pd.Series(train_precision_all),'Recall':pd.Series(train_recall_all),'F1_Score':pd.Series(train_fscore_all)})  \n",
    "\n"
   ]
  },
  {
   "cell_type": "code",
   "execution_count": 14,
   "metadata": {},
   "outputs": [
    {
     "name": "stdout",
     "output_type": "stream",
     "text": [
      "         Accuracy  F1_Score  Precision    Recall\n",
      "KNN      0.573171  0.566496   0.574451  0.578462\n",
      "LR       0.513255  0.497557   0.500262  0.501655\n",
      "NB       0.427586  0.410950   0.494164  0.448846\n",
      "XGBoost  0.693681  0.687154   0.685473  0.690629\n"
     ]
    }
   ],
   "source": [
    "print(train_classifier_results)"
   ]
  },
  {
   "cell_type": "code",
   "execution_count": 15,
   "metadata": {},
   "outputs": [
    {
     "name": "stdout",
     "output_type": "stream",
     "text": [
      "         Accuracy  F1_Score  Precision    Recall\n",
      "KNN      0.382984  0.374119   0.373405  0.385623\n",
      "LR       0.513065  0.495733   0.497527  0.500285\n",
      "NB       0.429500  0.412919   0.492705  0.450919\n",
      "XGBoost  0.629702  0.621602   0.619203  0.625379\n"
     ]
    }
   ],
   "source": [
    "print(val_classifier_results)"
   ]
  },
  {
   "cell_type": "markdown",
   "metadata": {},
   "source": [
    "# SVM"
   ]
  },
  {
   "cell_type": "code",
   "execution_count": null,
   "metadata": {
    "collapsed": true
   },
   "outputs": [],
   "source": [
    "# Grid search:\n",
    "\n",
    "# vary kernels\n",
    "# vary 'C'\n",
    "\n",
    "# Record testing error AND training error"
   ]
  },
  {
   "cell_type": "code",
   "execution_count": null,
   "metadata": {},
   "outputs": [],
   "source": [
    "#SVM with grid search. Needs to be completed\n",
    "\n",
    "tuned_parameters = [{'kernel': ['rbf'], 'gamma': [1e-3, 1e-4],\n",
    "                     'C': [1, 10, 100, 1000]},\n",
    "                    {'kernel': ['linear'], 'C': [1, 10, 100, 1000]}]\n",
    "\n",
    "scores = ['accuracy','precision_macro', 'recall_macro','f1_macro']\n",
    "\n",
    "for score in scores:\n",
    "    print(\"# Tuning hyper-parameters for %s\" % score)\n",
    "    print()\n",
    "\n",
    "    clf = GridSearchCV(SVC(), tuned_parameters, cv=5,\n",
    "                       scoring='%s' % score)\n",
    "    clf.fit(X_train, y_train)\n",
    "    \n",
    "    print(\"Best parameters set found on development set:\")\n",
    "    print()\n",
    "    print(clf.best_params_)\n",
    "\n"
   ]
  },
  {
   "cell_type": "markdown",
   "metadata": {},
   "source": [
    "# Logistic Regression"
   ]
  },
  {
   "cell_type": "code",
   "execution_count": null,
   "metadata": {
    "collapsed": true
   },
   "outputs": [],
   "source": [
    "# Try different regularization techniques\n",
    "\n",
    "# If it's not overfitting, maybe try adding in some interaction terms?"
   ]
  },
  {
   "cell_type": "markdown",
   "metadata": {},
   "source": [
    "# XGBOOST"
   ]
  },
  {
   "cell_type": "code",
   "execution_count": 19,
   "metadata": {},
   "outputs": [
    {
     "name": "stdout",
     "output_type": "stream",
     "text": [
      "Fitting 2 folds for each of 50 candidates, totalling 100 fits\n",
      "[CV] subsample=0.8, min_child_weight=5, max_depth=5, learning_rate=0.1, gamma=2, colsample_bytree=0.6 \n",
      "[CV]  subsample=0.8, min_child_weight=5, max_depth=5, learning_rate=0.1, gamma=2, colsample_bytree=0.6, score=0.6264538815255613, total=   9.1s\n",
      "[CV] subsample=0.8, min_child_weight=5, max_depth=5, learning_rate=0.1, gamma=2, colsample_bytree=0.6 \n"
     ]
    },
    {
     "name": "stderr",
     "output_type": "stream",
     "text": [
      "[Parallel(n_jobs=1)]: Done   1 out of   1 | elapsed:    9.5s remaining:    0.0s\n"
     ]
    },
    {
     "name": "stdout",
     "output_type": "stream",
     "text": [
      "[CV]  subsample=0.8, min_child_weight=5, max_depth=5, learning_rate=0.1, gamma=2, colsample_bytree=0.6, score=0.6203538386625548, total=  10.5s\n",
      "[CV] subsample=0.6, min_child_weight=5, max_depth=3, learning_rate=0.05, gamma=5, colsample_bytree=0.6 \n"
     ]
    },
    {
     "name": "stderr",
     "output_type": "stream",
     "text": [
      "[Parallel(n_jobs=1)]: Done   2 out of   2 | elapsed:   20.4s remaining:    0.0s\n"
     ]
    },
    {
     "name": "stdout",
     "output_type": "stream",
     "text": [
      "[CV]  subsample=0.6, min_child_weight=5, max_depth=3, learning_rate=0.05, gamma=5, colsample_bytree=0.6, score=0.6119556397078713, total=   6.8s\n",
      "[CV] subsample=0.6, min_child_weight=5, max_depth=3, learning_rate=0.05, gamma=5, colsample_bytree=0.6 \n",
      "[CV]  subsample=0.6, min_child_weight=5, max_depth=3, learning_rate=0.05, gamma=5, colsample_bytree=0.6, score=0.6105069523345777, total=   6.3s\n",
      "[CV] subsample=1.0, min_child_weight=5, max_depth=4, learning_rate=0.1, gamma=1, colsample_bytree=0.8 \n",
      "[CV]  subsample=1.0, min_child_weight=5, max_depth=4, learning_rate=0.1, gamma=1, colsample_bytree=0.8, score=0.6245604544225047, total=   7.5s\n",
      "[CV] subsample=1.0, min_child_weight=5, max_depth=4, learning_rate=0.1, gamma=1, colsample_bytree=0.8 \n",
      "[CV]  subsample=1.0, min_child_weight=5, max_depth=4, learning_rate=0.1, gamma=1, colsample_bytree=0.8, score=0.618568414218471, total=   8.2s\n",
      "[CV] subsample=1.0, min_child_weight=10, max_depth=5, learning_rate=0.05, gamma=0, colsample_bytree=0.8 \n",
      "[CV]  subsample=1.0, min_child_weight=10, max_depth=5, learning_rate=0.05, gamma=0, colsample_bytree=0.8, score=0.6225588314849878, total=  10.1s\n",
      "[CV] subsample=1.0, min_child_weight=10, max_depth=5, learning_rate=0.05, gamma=0, colsample_bytree=0.8 \n",
      "[CV]  subsample=1.0, min_child_weight=10, max_depth=5, learning_rate=0.05, gamma=0, colsample_bytree=0.8, score=0.6197586971811935, total=  10.6s\n",
      "[CV] subsample=0.8, min_child_weight=10, max_depth=4, learning_rate=0.05, gamma=1.5, colsample_bytree=0.6 \n",
      "[CV]  subsample=0.8, min_child_weight=10, max_depth=4, learning_rate=0.05, gamma=1.5, colsample_bytree=0.6, score=0.6197457397890181, total=   7.4s\n",
      "[CV] subsample=0.8, min_child_weight=10, max_depth=4, learning_rate=0.05, gamma=1.5, colsample_bytree=0.6 \n",
      "[CV]  subsample=0.8, min_child_weight=10, max_depth=4, learning_rate=0.05, gamma=1.5, colsample_bytree=0.6, score=0.6182978953633068, total=   7.6s\n",
      "[CV] subsample=0.8, min_child_weight=1, max_depth=5, learning_rate=0.1, gamma=5, colsample_bytree=0.8 \n",
      "[CV]  subsample=0.8, min_child_weight=1, max_depth=5, learning_rate=0.1, gamma=5, colsample_bytree=0.8, score=0.6242358669191236, total=  10.8s\n",
      "[CV] subsample=0.8, min_child_weight=1, max_depth=5, learning_rate=0.1, gamma=5, colsample_bytree=0.8 \n",
      "[CV]  subsample=0.8, min_child_weight=1, max_depth=5, learning_rate=0.1, gamma=5, colsample_bytree=0.8, score=0.6179732727371098, total=  10.7s\n",
      "[CV] subsample=1.0, min_child_weight=10, max_depth=3, learning_rate=0.1, gamma=2, colsample_bytree=1.0 \n",
      "[CV]  subsample=1.0, min_child_weight=10, max_depth=3, learning_rate=0.1, gamma=2, colsample_bytree=1.0, score=0.6212604814714634, total=   7.1s\n",
      "[CV] subsample=1.0, min_child_weight=10, max_depth=3, learning_rate=0.1, gamma=2, colsample_bytree=1.0 \n",
      "[CV]  subsample=1.0, min_child_weight=10, max_depth=3, learning_rate=0.1, gamma=2, colsample_bytree=1.0, score=0.6147811502461722, total=   6.3s\n",
      "[CV] subsample=1.0, min_child_weight=5, max_depth=5, learning_rate=0.05, gamma=2, colsample_bytree=0.8 \n",
      "[CV]  subsample=1.0, min_child_weight=5, max_depth=5, learning_rate=0.05, gamma=2, colsample_bytree=0.8, score=0.6242358669191236, total=  10.3s\n",
      "[CV] subsample=1.0, min_child_weight=5, max_depth=5, learning_rate=0.05, gamma=2, colsample_bytree=0.8 \n",
      "[CV]  subsample=1.0, min_child_weight=5, max_depth=5, learning_rate=0.05, gamma=2, colsample_bytree=0.8, score=0.6196504896391278, total=   9.6s\n",
      "[CV] subsample=1.0, min_child_weight=1, max_depth=5, learning_rate=0.2, gamma=2, colsample_bytree=1.0 \n",
      "[CV]  subsample=1.0, min_child_weight=1, max_depth=5, learning_rate=0.2, gamma=2, colsample_bytree=1.0, score=0.624668650256965, total=  10.9s\n",
      "[CV] subsample=1.0, min_child_weight=1, max_depth=5, learning_rate=0.2, gamma=2, colsample_bytree=1.0 \n",
      "[CV]  subsample=1.0, min_child_weight=1, max_depth=5, learning_rate=0.2, gamma=2, colsample_bytree=1.0, score=0.6181896878212412, total=  10.2s\n",
      "[CV] subsample=1.0, min_child_weight=10, max_depth=5, learning_rate=0.05, gamma=0, colsample_bytree=1.0 \n",
      "[CV]  subsample=1.0, min_child_weight=10, max_depth=5, learning_rate=0.05, gamma=0, colsample_bytree=1.0, score=0.6225047335677576, total=  11.1s\n",
      "[CV] subsample=1.0, min_child_weight=10, max_depth=5, learning_rate=0.05, gamma=0, colsample_bytree=1.0 \n",
      "[CV]  subsample=1.0, min_child_weight=10, max_depth=5, learning_rate=0.05, gamma=0, colsample_bytree=1.0, score=0.6184602066764053, total=  11.1s\n",
      "[CV] subsample=0.6, min_child_weight=5, max_depth=5, learning_rate=0.05, gamma=0.5, colsample_bytree=0.8 \n",
      "[CV]  subsample=0.6, min_child_weight=5, max_depth=5, learning_rate=0.05, gamma=0.5, colsample_bytree=0.8, score=0.6267243711117122, total=  11.6s\n",
      "[CV] subsample=0.6, min_child_weight=5, max_depth=5, learning_rate=0.05, gamma=0.5, colsample_bytree=0.8 \n",
      "[CV]  subsample=0.6, min_child_weight=5, max_depth=5, learning_rate=0.05, gamma=0.5, colsample_bytree=0.8, score=0.6228426121300654, total=  11.5s\n",
      "[CV] subsample=1.0, min_child_weight=10, max_depth=4, learning_rate=0.2, gamma=5, colsample_bytree=1.0 \n",
      "[CV]  subsample=1.0, min_child_weight=10, max_depth=4, learning_rate=0.2, gamma=5, colsample_bytree=1.0, score=0.6146605355693806, total=   7.9s\n",
      "[CV] subsample=1.0, min_child_weight=10, max_depth=4, learning_rate=0.2, gamma=5, colsample_bytree=1.0 \n",
      "[CV]  subsample=1.0, min_child_weight=10, max_depth=4, learning_rate=0.2, gamma=5, colsample_bytree=1.0, score=0.6120759616945302, total=   7.9s\n",
      "[CV] subsample=0.6, min_child_weight=10, max_depth=5, learning_rate=0.2, gamma=1.5, colsample_bytree=0.6 \n",
      "[CV]  subsample=0.6, min_child_weight=10, max_depth=5, learning_rate=0.2, gamma=1.5, colsample_bytree=0.6, score=0.6206113064647011, total=   9.1s\n",
      "[CV] subsample=0.6, min_child_weight=10, max_depth=5, learning_rate=0.2, gamma=1.5, colsample_bytree=0.6 \n",
      "[CV]  subsample=0.6, min_child_weight=10, max_depth=5, learning_rate=0.2, gamma=1.5, colsample_bytree=0.6, score=0.6139154899096467, total=   9.1s\n",
      "[CV] subsample=1.0, min_child_weight=1, max_depth=3, learning_rate=0.2, gamma=0.5, colsample_bytree=0.6 \n",
      "[CV]  subsample=1.0, min_child_weight=1, max_depth=3, learning_rate=0.2, gamma=0.5, colsample_bytree=0.6, score=0.6241817690018934, total=   4.6s\n",
      "[CV] subsample=1.0, min_child_weight=1, max_depth=3, learning_rate=0.2, gamma=0.5, colsample_bytree=0.6 \n",
      "[CV]  subsample=1.0, min_child_weight=1, max_depth=3, learning_rate=0.2, gamma=0.5, colsample_bytree=0.6, score=0.6158091218957962, total=   4.8s\n",
      "[CV] subsample=0.6, min_child_weight=10, max_depth=3, learning_rate=0.1, gamma=0, colsample_bytree=0.8 \n",
      "[CV]  subsample=0.6, min_child_weight=10, max_depth=3, learning_rate=0.1, gamma=0, colsample_bytree=0.8, score=0.6229916148228293, total=   6.7s\n",
      "[CV] subsample=0.6, min_child_weight=10, max_depth=3, learning_rate=0.1, gamma=0, colsample_bytree=0.8 \n",
      "[CV]  subsample=0.6, min_child_weight=10, max_depth=3, learning_rate=0.1, gamma=0, colsample_bytree=0.8, score=0.6187307255315696, total=   6.8s\n",
      "[CV] subsample=0.6, min_child_weight=10, max_depth=3, learning_rate=0.2, gamma=0.5, colsample_bytree=0.6 \n",
      "[CV]  subsample=0.6, min_child_weight=10, max_depth=3, learning_rate=0.2, gamma=0.5, colsample_bytree=0.6, score=0.6229916148228293, total=   5.7s\n",
      "[CV] subsample=0.6, min_child_weight=10, max_depth=3, learning_rate=0.2, gamma=0.5, colsample_bytree=0.6 \n",
      "[CV]  subsample=0.6, min_child_weight=10, max_depth=3, learning_rate=0.2, gamma=0.5, colsample_bytree=0.6, score=0.6175945463398799, total=   5.7s\n",
      "[CV] subsample=0.8, min_child_weight=5, max_depth=3, learning_rate=0.05, gamma=1.5, colsample_bytree=0.6 \n",
      "[CV]  subsample=0.8, min_child_weight=5, max_depth=3, learning_rate=0.05, gamma=1.5, colsample_bytree=0.6, score=0.6164998647552069, total=   5.5s\n",
      "[CV] subsample=0.8, min_child_weight=5, max_depth=3, learning_rate=0.05, gamma=1.5, colsample_bytree=0.6 \n",
      "[CV]  subsample=0.8, min_child_weight=5, max_depth=3, learning_rate=0.05, gamma=1.5, colsample_bytree=0.6, score=0.610723367418709, total=   5.6s\n",
      "[CV] subsample=1.0, min_child_weight=10, max_depth=3, learning_rate=0.2, gamma=2, colsample_bytree=0.8 \n",
      "[CV]  subsample=1.0, min_child_weight=10, max_depth=3, learning_rate=0.2, gamma=2, colsample_bytree=0.8, score=0.6214768731403841, total=   5.4s\n",
      "[CV] subsample=1.0, min_child_weight=10, max_depth=3, learning_rate=0.2, gamma=2, colsample_bytree=0.8 \n"
     ]
    },
    {
     "name": "stdout",
     "output_type": "stream",
     "text": [
      "[CV]  subsample=1.0, min_child_weight=10, max_depth=3, learning_rate=0.2, gamma=2, colsample_bytree=0.8, score=0.6153221879565006, total=   5.3s\n",
      "[CV] subsample=0.8, min_child_weight=10, max_depth=3, learning_rate=0.1, gamma=5, colsample_bytree=0.8 \n",
      "[CV]  subsample=0.8, min_child_weight=10, max_depth=3, learning_rate=0.1, gamma=5, colsample_bytree=0.8, score=0.6186637814444144, total=   6.2s\n",
      "[CV] subsample=0.8, min_child_weight=10, max_depth=3, learning_rate=0.1, gamma=5, colsample_bytree=0.8 \n",
      "[CV]  subsample=0.8, min_child_weight=10, max_depth=3, learning_rate=0.1, gamma=5, colsample_bytree=0.8, score=0.6154844992695991, total=   6.3s\n",
      "[CV] subsample=0.8, min_child_weight=5, max_depth=4, learning_rate=0.2, gamma=0.5, colsample_bytree=1.0 \n",
      "[CV]  subsample=0.8, min_child_weight=5, max_depth=4, learning_rate=0.2, gamma=0.5, colsample_bytree=1.0, score=0.6256965106843386, total=   9.3s\n",
      "[CV] subsample=0.8, min_child_weight=5, max_depth=4, learning_rate=0.2, gamma=0.5, colsample_bytree=1.0 \n",
      "[CV]  subsample=0.8, min_child_weight=5, max_depth=4, learning_rate=0.2, gamma=0.5, colsample_bytree=1.0, score=0.6157009143537304, total=   9.2s\n",
      "[CV] subsample=1.0, min_child_weight=10, max_depth=3, learning_rate=0.2, gamma=0, colsample_bytree=0.6 \n",
      "[CV]  subsample=1.0, min_child_weight=10, max_depth=3, learning_rate=0.2, gamma=0, colsample_bytree=0.6, score=0.6238571814985123, total=   4.6s\n",
      "[CV] subsample=1.0, min_child_weight=10, max_depth=3, learning_rate=0.2, gamma=0, colsample_bytree=0.6 \n",
      "[CV]  subsample=1.0, min_child_weight=10, max_depth=3, learning_rate=0.2, gamma=0, colsample_bytree=0.6, score=0.6173240274847157, total=   4.6s\n",
      "[CV] subsample=1.0, min_child_weight=1, max_depth=5, learning_rate=0.1, gamma=2, colsample_bytree=0.8 \n",
      "[CV]  subsample=1.0, min_child_weight=1, max_depth=5, learning_rate=0.1, gamma=2, colsample_bytree=0.8, score=0.6271030565323235, total=   9.5s\n",
      "[CV] subsample=1.0, min_child_weight=1, max_depth=5, learning_rate=0.1, gamma=2, colsample_bytree=0.8 \n",
      "[CV]  subsample=1.0, min_child_weight=1, max_depth=5, learning_rate=0.1, gamma=2, colsample_bytree=0.8, score=0.6175945463398799, total=   9.4s\n",
      "[CV] subsample=0.6, min_child_weight=1, max_depth=5, learning_rate=0.1, gamma=0.5, colsample_bytree=0.6 \n",
      "[CV]  subsample=0.6, min_child_weight=1, max_depth=5, learning_rate=0.1, gamma=0.5, colsample_bytree=0.6, score=0.625804706518799, total=   9.6s\n",
      "[CV] subsample=0.6, min_child_weight=1, max_depth=5, learning_rate=0.1, gamma=0.5, colsample_bytree=0.6 \n",
      "[CV]  subsample=0.6, min_child_weight=1, max_depth=5, learning_rate=0.1, gamma=0.5, colsample_bytree=0.6, score=0.6183519991343397, total=   9.7s\n",
      "[CV] subsample=0.8, min_child_weight=10, max_depth=3, learning_rate=0.05, gamma=0.5, colsample_bytree=0.8 \n",
      "[CV]  subsample=0.8, min_child_weight=10, max_depth=3, learning_rate=0.05, gamma=0.5, colsample_bytree=0.8, score=0.6166621585068975, total=   6.3s\n",
      "[CV] subsample=0.8, min_child_weight=10, max_depth=3, learning_rate=0.05, gamma=0.5, colsample_bytree=0.8 \n",
      "[CV]  subsample=0.8, min_child_weight=10, max_depth=3, learning_rate=0.05, gamma=0.5, colsample_bytree=0.8, score=0.6120218579234973, total=   6.3s\n",
      "[CV] subsample=0.6, min_child_weight=10, max_depth=5, learning_rate=0.05, gamma=1, colsample_bytree=1.0 \n",
      "[CV]  subsample=0.6, min_child_weight=10, max_depth=5, learning_rate=0.05, gamma=1, colsample_bytree=1.0, score=0.6262915877738707, total=  13.0s\n",
      "[CV] subsample=0.6, min_child_weight=10, max_depth=5, learning_rate=0.05, gamma=1, colsample_bytree=1.0 \n",
      "[CV]  subsample=0.6, min_child_weight=10, max_depth=5, learning_rate=0.05, gamma=1, colsample_bytree=1.0, score=0.6218687442514743, total=  12.9s\n",
      "[CV] subsample=1.0, min_child_weight=1, max_depth=3, learning_rate=0.1, gamma=2, colsample_bytree=0.6 \n",
      "[CV]  subsample=1.0, min_child_weight=1, max_depth=3, learning_rate=0.1, gamma=2, colsample_bytree=0.6, score=0.620881796050852, total=   4.6s\n",
      "[CV] subsample=1.0, min_child_weight=1, max_depth=3, learning_rate=0.1, gamma=2, colsample_bytree=0.6 \n",
      "[CV]  subsample=1.0, min_child_weight=1, max_depth=3, learning_rate=0.1, gamma=2, colsample_bytree=0.6, score=0.6157550181247633, total=   4.7s\n",
      "[CV] subsample=0.8, min_child_weight=5, max_depth=4, learning_rate=0.1, gamma=2, colsample_bytree=0.6 \n",
      "[CV]  subsample=0.8, min_child_weight=5, max_depth=4, learning_rate=0.1, gamma=2, colsample_bytree=0.6, score=0.6239653773329726, total=   6.9s\n",
      "[CV] subsample=0.8, min_child_weight=5, max_depth=4, learning_rate=0.1, gamma=2, colsample_bytree=0.6 \n",
      "[CV]  subsample=0.8, min_child_weight=5, max_depth=4, learning_rate=0.1, gamma=2, colsample_bytree=0.6, score=0.6198669047232592, total=   6.9s\n",
      "[CV] subsample=0.6, min_child_weight=5, max_depth=5, learning_rate=0.2, gamma=1.5, colsample_bytree=0.8 \n",
      "[CV]  subsample=0.6, min_child_weight=5, max_depth=5, learning_rate=0.2, gamma=1.5, colsample_bytree=0.8, score=0.6204490127130106, total=  10.9s\n",
      "[CV] subsample=0.6, min_child_weight=5, max_depth=5, learning_rate=0.2, gamma=1.5, colsample_bytree=0.8 \n",
      "[CV]  subsample=0.6, min_child_weight=5, max_depth=5, learning_rate=0.2, gamma=1.5, colsample_bytree=0.8, score=0.6141860087648109, total=  11.1s\n",
      "[CV] subsample=0.6, min_child_weight=10, max_depth=5, learning_rate=0.1, gamma=1, colsample_bytree=1.0 \n",
      "[CV]  subsample=0.6, min_child_weight=10, max_depth=5, learning_rate=0.1, gamma=1, colsample_bytree=1.0, score=0.6249932377603462, total=  12.6s\n",
      "[CV] subsample=0.6, min_child_weight=10, max_depth=5, learning_rate=0.1, gamma=1, colsample_bytree=1.0 \n",
      "[CV]  subsample=0.6, min_child_weight=10, max_depth=5, learning_rate=0.1, gamma=1, colsample_bytree=1.0, score=0.6182978953633068, total=  12.8s\n",
      "[CV] subsample=1.0, min_child_weight=5, max_depth=3, learning_rate=0.05, gamma=2, colsample_bytree=1.0 \n",
      "[CV]  subsample=1.0, min_child_weight=5, max_depth=3, learning_rate=0.05, gamma=2, colsample_bytree=1.0, score=0.6147146334866108, total=   6.5s\n",
      "[CV] subsample=1.0, min_child_weight=5, max_depth=3, learning_rate=0.05, gamma=2, colsample_bytree=1.0 \n",
      "[CV]  subsample=1.0, min_child_weight=5, max_depth=3, learning_rate=0.05, gamma=2, colsample_bytree=1.0, score=0.6099659146242493, total=   6.4s\n",
      "[CV] subsample=0.8, min_child_weight=1, max_depth=3, learning_rate=0.1, gamma=0, colsample_bytree=0.8 \n",
      "[CV]  subsample=0.8, min_child_weight=1, max_depth=3, learning_rate=0.1, gamma=0, colsample_bytree=0.8, score=0.623478496077901, total=   6.2s\n",
      "[CV] subsample=0.8, min_child_weight=1, max_depth=3, learning_rate=0.1, gamma=0, colsample_bytree=0.8 \n",
      "[CV]  subsample=0.8, min_child_weight=1, max_depth=3, learning_rate=0.1, gamma=0, colsample_bytree=0.8, score=0.6192176594708652, total=   6.2s\n",
      "[CV] subsample=0.6, min_child_weight=1, max_depth=5, learning_rate=0.2, gamma=0, colsample_bytree=0.8 \n",
      "[CV]  subsample=0.6, min_child_weight=1, max_depth=5, learning_rate=0.2, gamma=0, colsample_bytree=0.8, score=0.6176359210170408, total=  11.2s\n",
      "[CV] subsample=0.6, min_child_weight=1, max_depth=5, learning_rate=0.2, gamma=0, colsample_bytree=0.8 \n",
      "[CV]  subsample=0.6, min_child_weight=1, max_depth=5, learning_rate=0.2, gamma=0, colsample_bytree=0.8, score=0.6075853486988043, total=  11.2s\n",
      "[CV] subsample=0.6, min_child_weight=10, max_depth=4, learning_rate=0.05, gamma=5, colsample_bytree=0.6 \n",
      "[CV]  subsample=0.6, min_child_weight=10, max_depth=4, learning_rate=0.05, gamma=5, colsample_bytree=0.6, score=0.61736543143089, total=   7.7s\n",
      "[CV] subsample=0.6, min_child_weight=10, max_depth=4, learning_rate=0.05, gamma=5, colsample_bytree=0.6 \n",
      "[CV]  subsample=0.6, min_child_weight=10, max_depth=4, learning_rate=0.05, gamma=5, colsample_bytree=0.6, score=0.616187848293026, total=   7.6s\n",
      "[CV] subsample=1.0, min_child_weight=5, max_depth=5, learning_rate=0.05, gamma=5, colsample_bytree=0.8 \n",
      "[CV]  subsample=1.0, min_child_weight=5, max_depth=5, learning_rate=0.05, gamma=5, colsample_bytree=0.8, score=0.6216932648093049, total=   9.3s\n",
      "[CV] subsample=1.0, min_child_weight=5, max_depth=5, learning_rate=0.05, gamma=5, colsample_bytree=0.8 \n",
      "[CV]  subsample=1.0, min_child_weight=5, max_depth=5, learning_rate=0.05, gamma=5, colsample_bytree=0.8, score=0.6158632256668289, total=   9.2s\n",
      "[CV] subsample=0.6, min_child_weight=1, max_depth=3, learning_rate=0.2, gamma=0.5, colsample_bytree=1.0 \n"
     ]
    },
    {
     "name": "stdout",
     "output_type": "stream",
     "text": [
      "[CV]  subsample=0.6, min_child_weight=1, max_depth=3, learning_rate=0.2, gamma=0.5, colsample_bytree=1.0, score=0.6272653502840141, total=   7.6s\n",
      "[CV] subsample=0.6, min_child_weight=1, max_depth=3, learning_rate=0.2, gamma=0.5, colsample_bytree=1.0 \n",
      "[CV]  subsample=0.6, min_child_weight=1, max_depth=3, learning_rate=0.2, gamma=0.5, colsample_bytree=1.0, score=0.619596385868095, total=   7.6s\n",
      "[CV] subsample=1.0, min_child_weight=1, max_depth=5, learning_rate=0.2, gamma=2, colsample_bytree=0.6 \n",
      "[CV]  subsample=1.0, min_child_weight=1, max_depth=5, learning_rate=0.2, gamma=2, colsample_bytree=0.6, score=0.6251555315120367, total=   7.0s\n",
      "[CV] subsample=1.0, min_child_weight=1, max_depth=5, learning_rate=0.2, gamma=2, colsample_bytree=0.6 \n",
      "[CV]  subsample=1.0, min_child_weight=1, max_depth=5, learning_rate=0.2, gamma=2, colsample_bytree=0.6, score=0.6167829897743873, total=   7.1s\n",
      "[CV] subsample=0.6, min_child_weight=10, max_depth=4, learning_rate=0.2, gamma=0, colsample_bytree=0.6 \n",
      "[CV]  subsample=0.6, min_child_weight=10, max_depth=4, learning_rate=0.2, gamma=0, colsample_bytree=0.6, score=0.622883418988369, total=   7.4s\n",
      "[CV] subsample=0.6, min_child_weight=10, max_depth=4, learning_rate=0.2, gamma=0, colsample_bytree=0.6 \n",
      "[CV]  subsample=0.6, min_child_weight=10, max_depth=4, learning_rate=0.2, gamma=0, colsample_bytree=0.6, score=0.6146188389330737, total=   7.3s\n",
      "[CV] subsample=1.0, min_child_weight=1, max_depth=4, learning_rate=0.2, gamma=1.5, colsample_bytree=0.8 \n",
      "[CV]  subsample=1.0, min_child_weight=1, max_depth=4, learning_rate=0.2, gamma=1.5, colsample_bytree=0.8, score=0.622883418988369, total=   6.8s\n",
      "[CV] subsample=1.0, min_child_weight=1, max_depth=4, learning_rate=0.2, gamma=1.5, colsample_bytree=0.8 \n",
      "[CV]  subsample=1.0, min_child_weight=1, max_depth=4, learning_rate=0.2, gamma=1.5, colsample_bytree=0.8, score=0.6172699237136828, total=   6.7s\n",
      "[CV] subsample=0.6, min_child_weight=10, max_depth=4, learning_rate=0.05, gamma=0.5, colsample_bytree=0.8 \n",
      "[CV]  subsample=0.6, min_child_weight=10, max_depth=4, learning_rate=0.05, gamma=0.5, colsample_bytree=0.8, score=0.6230998106572897, total=   8.8s\n",
      "[CV] subsample=0.6, min_child_weight=10, max_depth=4, learning_rate=0.05, gamma=0.5, colsample_bytree=0.8 \n",
      "[CV]  subsample=0.6, min_child_weight=10, max_depth=4, learning_rate=0.05, gamma=0.5, colsample_bytree=0.8, score=0.6184061029053725, total=   8.8s\n",
      "[CV] subsample=0.8, min_child_weight=10, max_depth=4, learning_rate=0.2, gamma=0, colsample_bytree=0.6 \n",
      "[CV]  subsample=0.8, min_child_weight=10, max_depth=4, learning_rate=0.2, gamma=0, colsample_bytree=0.6, score=0.6213145793886935, total=   6.8s\n",
      "[CV] subsample=0.8, min_child_weight=10, max_depth=4, learning_rate=0.2, gamma=0, colsample_bytree=0.6 \n",
      "[CV]  subsample=0.8, min_child_weight=10, max_depth=4, learning_rate=0.2, gamma=0, colsample_bytree=0.6, score=0.614835254017205, total=   6.6s\n",
      "[CV] subsample=1.0, min_child_weight=1, max_depth=3, learning_rate=0.1, gamma=5, colsample_bytree=0.8 \n",
      "[CV]  subsample=1.0, min_child_weight=1, max_depth=3, learning_rate=0.1, gamma=5, colsample_bytree=0.8, score=0.6163916689207466, total=   5.2s\n",
      "[CV] subsample=1.0, min_child_weight=1, max_depth=3, learning_rate=0.1, gamma=5, colsample_bytree=0.8 \n",
      "[CV]  subsample=1.0, min_child_weight=1, max_depth=3, learning_rate=0.1, gamma=5, colsample_bytree=0.8, score=0.6099659146242493, total=   5.2s\n",
      "[CV] subsample=1.0, min_child_weight=5, max_depth=3, learning_rate=0.05, gamma=1, colsample_bytree=0.8 \n",
      "[CV]  subsample=1.0, min_child_weight=5, max_depth=3, learning_rate=0.05, gamma=1, colsample_bytree=0.8, score=0.6140654584798485, total=   5.5s\n",
      "[CV] subsample=1.0, min_child_weight=5, max_depth=3, learning_rate=0.05, gamma=1, colsample_bytree=0.8 \n",
      "[CV]  subsample=1.0, min_child_weight=5, max_depth=3, learning_rate=0.05, gamma=1, colsample_bytree=0.8, score=0.6082886977222313, total=   5.4s\n",
      "[CV] subsample=0.6, min_child_weight=10, max_depth=5, learning_rate=0.1, gamma=0.5, colsample_bytree=0.6 \n",
      "[CV]  subsample=0.6, min_child_weight=10, max_depth=5, learning_rate=0.1, gamma=0.5, colsample_bytree=0.6, score=0.6252096294292669, total=   9.1s\n",
      "[CV] subsample=0.6, min_child_weight=10, max_depth=5, learning_rate=0.1, gamma=0.5, colsample_bytree=0.6 \n",
      "[CV]  subsample=0.6, min_child_weight=10, max_depth=5, learning_rate=0.1, gamma=0.5, colsample_bytree=0.6, score=0.6187307255315696, total=   9.1s\n",
      "[CV] subsample=1.0, min_child_weight=1, max_depth=5, learning_rate=0.05, gamma=0.5, colsample_bytree=1.0 \n",
      "[CV]  subsample=1.0, min_child_weight=1, max_depth=5, learning_rate=0.05, gamma=0.5, colsample_bytree=1.0, score=0.6243981606708142, total=  11.1s\n",
      "[CV] subsample=1.0, min_child_weight=1, max_depth=5, learning_rate=0.05, gamma=0.5, colsample_bytree=1.0 \n",
      "[CV]  subsample=1.0, min_child_weight=1, max_depth=5, learning_rate=0.05, gamma=0.5, colsample_bytree=1.0, score=0.6195422820970622, total=  11.0s\n",
      "[CV] subsample=0.8, min_child_weight=1, max_depth=5, learning_rate=0.1, gamma=1, colsample_bytree=0.8 \n",
      "[CV]  subsample=0.8, min_child_weight=1, max_depth=5, learning_rate=0.1, gamma=1, colsample_bytree=0.8, score=0.6276440357046253, total=  10.3s\n",
      "[CV] subsample=0.8, min_child_weight=1, max_depth=5, learning_rate=0.1, gamma=1, colsample_bytree=0.8 \n",
      "[CV]  subsample=0.8, min_child_weight=1, max_depth=5, learning_rate=0.1, gamma=1, colsample_bytree=0.8, score=0.6190553481577666, total=  10.3s\n",
      "[CV] subsample=1.0, min_child_weight=10, max_depth=5, learning_rate=0.05, gamma=5, colsample_bytree=0.8 \n",
      "[CV]  subsample=1.0, min_child_weight=10, max_depth=5, learning_rate=0.05, gamma=5, colsample_bytree=0.8, score=0.6201785231268596, total=   9.2s\n",
      "[CV] subsample=1.0, min_child_weight=10, max_depth=5, learning_rate=0.05, gamma=5, colsample_bytree=0.8 \n",
      "[CV]  subsample=1.0, min_child_weight=10, max_depth=5, learning_rate=0.05, gamma=5, colsample_bytree=0.8, score=0.6155927068116648, total=   9.2s\n",
      "[CV] subsample=1.0, min_child_weight=10, max_depth=5, learning_rate=0.1, gamma=1.5, colsample_bytree=0.8 \n",
      "[CV]  subsample=1.0, min_child_weight=10, max_depth=5, learning_rate=0.1, gamma=1.5, colsample_bytree=0.8, score=0.6260210981877198, total=   9.0s\n",
      "[CV] subsample=1.0, min_child_weight=10, max_depth=5, learning_rate=0.1, gamma=1.5, colsample_bytree=0.8 \n",
      "[CV]  subsample=1.0, min_child_weight=10, max_depth=5, learning_rate=0.1, gamma=1.5, colsample_bytree=0.8, score=0.6171076124005843, total=   9.1s\n",
      "[CV] subsample=0.8, min_child_weight=5, max_depth=4, learning_rate=0.05, gamma=1.5, colsample_bytree=0.6 \n",
      "[CV]  subsample=0.8, min_child_weight=5, max_depth=4, learning_rate=0.05, gamma=1.5, colsample_bytree=0.6, score=0.621152285637003, total=   7.1s\n",
      "[CV] subsample=0.8, min_child_weight=5, max_depth=4, learning_rate=0.05, gamma=1.5, colsample_bytree=0.6 \n",
      "[CV]  subsample=0.8, min_child_weight=5, max_depth=4, learning_rate=0.05, gamma=1.5, colsample_bytree=0.6, score=0.6186225179895039, total=   7.1s\n",
      "[CV] subsample=1.0, min_child_weight=1, max_depth=5, learning_rate=0.05, gamma=2, colsample_bytree=1.0 \n",
      "[CV]  subsample=1.0, min_child_weight=1, max_depth=5, learning_rate=0.05, gamma=2, colsample_bytree=1.0, score=0.6245063565052745, total=  11.1s\n",
      "[CV] subsample=1.0, min_child_weight=1, max_depth=5, learning_rate=0.05, gamma=2, colsample_bytree=1.0 \n",
      "[CV]  subsample=1.0, min_child_weight=1, max_depth=5, learning_rate=0.05, gamma=2, colsample_bytree=1.0, score=0.6187307255315696, total=  11.1s\n",
      "[CV] subsample=0.8, min_child_weight=10, max_depth=4, learning_rate=0.1, gamma=1, colsample_bytree=0.6 \n",
      "[CV]  subsample=0.8, min_child_weight=10, max_depth=4, learning_rate=0.1, gamma=1, colsample_bytree=0.6, score=0.6233703002434406, total=   6.9s\n",
      "[CV] subsample=0.8, min_child_weight=10, max_depth=4, learning_rate=0.1, gamma=1, colsample_bytree=0.6 \n",
      "[CV]  subsample=0.8, min_child_weight=10, max_depth=4, learning_rate=0.1, gamma=1, colsample_bytree=0.6, score=0.6187848293026024, total=   6.9s\n"
     ]
    },
    {
     "name": "stderr",
     "output_type": "stream",
     "text": [
      "[Parallel(n_jobs=1)]: Done 100 out of 100 | elapsed: 14.2min finished\n"
     ]
    },
    {
     "data": {
      "text/plain": [
       "RandomizedSearchCV(cv=<generator object _BaseKFold.split at 0x1a0fecaaf0>,\n",
       "          error_score='raise',\n",
       "          estimator=XGBClassifier(base_score=0.5, colsample_bylevel=1, colsample_bytree=1,\n",
       "       gamma=0, learning_rate=0.1, max_delta_step=0, max_depth=3,\n",
       "       min_child_weight=1, missing=None, n_estimators=300, nthread=-1,\n",
       "       objective='multi:softmax', reg_alpha=0, reg_lambda=1,\n",
       "       scale_pos_weight=1, seed=27, silent=True, subsample=1),\n",
       "          fit_params=None, iid=True, n_iter=50, n_jobs=1,\n",
       "          param_distributions={'min_child_weight': [1, 5, 10], 'gamma': [0, 0.5, 1, 1.5, 2, 5], 'subsample': [0.6, 0.8, 1.0], 'colsample_bytree': [0.6, 0.8, 1.0], 'max_depth': [3, 4, 5], 'learning_rate': [0.05, 0.1, 0.2]},\n",
       "          pre_dispatch='2*n_jobs', random_state=None, refit=True,\n",
       "          return_train_score=True, scoring='accuracy', verbose=3)"
      ]
     },
     "execution_count": 19,
     "metadata": {},
     "output_type": "execute_result"
    }
   ],
   "source": [
    "params = {'min_child_weight': [1, 5, 10],\n",
    "        'gamma': [0,0.5, 1, 1.5, 2, 5],\n",
    "        'subsample': [0.6, 0.8, 1.0],\n",
    "        'colsample_bytree': [0.6, 0.8, 1.0],\n",
    "        'max_depth': [3, 4, 5],\n",
    "        'learning_rate': [0.01, 0.025, 0.05, 0.1],\n",
    "        }\n",
    "\n",
    "skf = StratifiedKFold(n_splits=2, shuffle = True, random_state = 1001)\n",
    "\n",
    "xgb = XGBClassifier(n_estimators=300, \n",
    "                    objective= 'multi:softmax', \n",
    "                    seed=27)\n",
    "\n",
    "rsearch1 = RandomizedSearchCV(estimator = xgb,\n",
    "                                    param_distributions = params,\n",
    "                                    n_iter=50,\n",
    "                                    scoring='accuracy',\n",
    "                                    #n_jobs=2,\n",
    "                                    verbose=3,\n",
    "                                    cv=skf.split(X_train,y_train),\n",
    "                                    return_train_score=True)\n",
    "\n",
    "rsearch1.fit(X_train,y_train)"
   ]
  },
  {
   "cell_type": "code",
   "execution_count": 22,
   "metadata": {},
   "outputs": [
    {
     "data": {
      "text/plain": [
       "({'subsample': 0.6,\n",
       "  'min_child_weight': 5,\n",
       "  'max_depth': 5,\n",
       "  'learning_rate': 0.05,\n",
       "  'gamma': 0.5,\n",
       "  'colsample_bytree': 0.8},\n",
       " 0.62478359662410732)"
      ]
     },
     "execution_count": 22,
     "metadata": {},
     "output_type": "execute_result"
    }
   ],
   "source": [
    "#Observe The best params and substitute please?\n",
    "rsearch1.best_params_, rsearch1.best_score_"
   ]
  },
  {
   "cell_type": "markdown",
   "metadata": {},
   "source": [
    "## If best param is largest or smallest tried, change range in grid search"
   ]
  },
  {
   "cell_type": "code",
   "execution_count": 29,
   "metadata": {},
   "outputs": [],
   "source": [
    "params2 = {'n_estimators': [600, 1000, 2000]\n",
    "        }\n",
    "\n",
    "xgb2 = XGBClassifier(objective= 'multi:softmax',\n",
    "              seed=27,\n",
    "              #Add best params from gsearch1 here:\n",
    "              subsample= 0.6,\n",
    "              min_child_weight= 5,\n",
    "              max_depth= 5,\n",
    "              learning_rate= 0.05,\n",
    "              gamma= 0.5,\n",
    "              colsample_bytree= 0.8\n",
    "             )\n",
    "\n",
    "gsearch2 = GridSearchCV(estimator = xgb2, \n",
    "                        param_grid = params2, \n",
    "                        scoring='accuracy',\n",
    "                        cv=skf.split(X_train,y_train))"
   ]
  },
  {
   "cell_type": "code",
   "execution_count": null,
   "metadata": {},
   "outputs": [],
   "source": [
    "gsearch2.fit(X_train,y_train)"
   ]
  },
  {
   "cell_type": "code",
   "execution_count": null,
   "metadata": {
    "collapsed": true
   },
   "outputs": [],
   "source": [
    "gsearch2.best_params_, gsearch2.best_score_"
   ]
  }
 ],
 "metadata": {
  "kernelspec": {
   "display_name": "Python 3",
   "language": "python",
   "name": "python3"
  },
  "language_info": {
   "codemirror_mode": {
    "name": "ipython",
    "version": 3
   },
   "file_extension": ".py",
   "mimetype": "text/x-python",
   "name": "python",
   "nbconvert_exporter": "python",
   "pygments_lexer": "ipython3",
   "version": "3.6.5"
  }
 },
 "nbformat": 4,
 "nbformat_minor": 2
}
