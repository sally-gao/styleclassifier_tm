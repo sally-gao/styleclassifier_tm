{
 "cells": [
  {
   "cell_type": "code",
   "execution_count": 1,
   "metadata": {},
   "outputs": [],
   "source": [
    "import pandas as pd\n",
    "import numpy as np\n",
    "import pickle"
   ]
  },
  {
   "cell_type": "code",
   "execution_count": 6,
   "metadata": {},
   "outputs": [],
   "source": [
    "from sklearn.model_selection import GridSearchCV, StratifiedKFold, RandomizedSearchCV\n",
    "from sklearn.metrics import classification_report\n",
    "from sklearn.svm import SVC"
   ]
  },
  {
   "cell_type": "markdown",
   "metadata": {},
   "source": [
    "# Import Dataframe"
   ]
  },
  {
   "cell_type": "code",
   "execution_count": 2,
   "metadata": {},
   "outputs": [],
   "source": [
    "# Load pickled dataframe\n",
    "\n",
    "file = 'pickles/features_04_30.pkl'\n",
    "\n",
    "with open(file, 'rb') as f:\n",
    "    df_features = pickle.load(f)"
   ]
  },
  {
   "cell_type": "code",
   "execution_count": 3,
   "metadata": {},
   "outputs": [
    {
     "data": {
      "text/html": [
       "<div>\n",
       "<style>\n",
       "    .dataframe thead tr:only-child th {\n",
       "        text-align: right;\n",
       "    }\n",
       "\n",
       "    .dataframe thead th {\n",
       "        text-align: left;\n",
       "    }\n",
       "\n",
       "    .dataframe tbody tr th {\n",
       "        vertical-align: top;\n",
       "    }\n",
       "</style>\n",
       "<table border=\"1\" class=\"dataframe\">\n",
       "  <thead>\n",
       "    <tr style=\"text-align: right;\">\n",
       "      <th></th>\n",
       "      <th>(., '')</th>\n",
       "      <th>(PRP, VBD)</th>\n",
       "      <th>``</th>\n",
       "      <th>(,, '')</th>\n",
       "      <th>('', PRP, VBD)</th>\n",
       "      <th>(,, ADP)</th>\n",
       "      <th>(NOUN, VBD)</th>\n",
       "      <th>VBD</th>\n",
       "      <th>(VBD, .)</th>\n",
       "      <th>(VBD, ,)</th>\n",
       "      <th>...</th>\n",
       "      <th>('', PRP)</th>\n",
       "      <th>(,, VBD)</th>\n",
       "      <th>source</th>\n",
       "      <th>readability_SMOG</th>\n",
       "      <th>avg_sent_len</th>\n",
       "      <th>Num_Sentences</th>\n",
       "      <th>sd_sent_len</th>\n",
       "      <th>norm_stop_freq</th>\n",
       "      <th>norm_punct_freq</th>\n",
       "      <th>norm_funct_freq</th>\n",
       "    </tr>\n",
       "  </thead>\n",
       "  <tbody>\n",
       "    <tr>\n",
       "      <th>0</th>\n",
       "      <td>0.0</td>\n",
       "      <td>0.000000</td>\n",
       "      <td>0.000000</td>\n",
       "      <td>0.0</td>\n",
       "      <td>0.0</td>\n",
       "      <td>0.013333</td>\n",
       "      <td>0.013333</td>\n",
       "      <td>0.013158</td>\n",
       "      <td>0.0</td>\n",
       "      <td>0.0</td>\n",
       "      <td>...</td>\n",
       "      <td>0.0</td>\n",
       "      <td>0.0</td>\n",
       "      <td>economist</td>\n",
       "      <td>11.2</td>\n",
       "      <td>20.666667</td>\n",
       "      <td>3</td>\n",
       "      <td>11.841546</td>\n",
       "      <td>0.421875</td>\n",
       "      <td>0.234375</td>\n",
       "      <td>0.390625</td>\n",
       "    </tr>\n",
       "    <tr>\n",
       "      <th>1</th>\n",
       "      <td>0.0</td>\n",
       "      <td>0.000000</td>\n",
       "      <td>0.000000</td>\n",
       "      <td>0.0</td>\n",
       "      <td>0.0</td>\n",
       "      <td>0.013514</td>\n",
       "      <td>0.000000</td>\n",
       "      <td>0.013333</td>\n",
       "      <td>0.0</td>\n",
       "      <td>0.0</td>\n",
       "      <td>...</td>\n",
       "      <td>0.0</td>\n",
       "      <td>0.0</td>\n",
       "      <td>economist</td>\n",
       "      <td>10.7</td>\n",
       "      <td>17.000000</td>\n",
       "      <td>4</td>\n",
       "      <td>3.391165</td>\n",
       "      <td>0.500000</td>\n",
       "      <td>0.132353</td>\n",
       "      <td>0.470588</td>\n",
       "    </tr>\n",
       "    <tr>\n",
       "      <th>2</th>\n",
       "      <td>0.0</td>\n",
       "      <td>0.000000</td>\n",
       "      <td>0.000000</td>\n",
       "      <td>0.0</td>\n",
       "      <td>0.0</td>\n",
       "      <td>0.012346</td>\n",
       "      <td>0.000000</td>\n",
       "      <td>0.000000</td>\n",
       "      <td>0.0</td>\n",
       "      <td>0.0</td>\n",
       "      <td>...</td>\n",
       "      <td>0.0</td>\n",
       "      <td>0.0</td>\n",
       "      <td>economist</td>\n",
       "      <td>5.7</td>\n",
       "      <td>13.800000</td>\n",
       "      <td>5</td>\n",
       "      <td>5.844656</td>\n",
       "      <td>0.422535</td>\n",
       "      <td>0.197183</td>\n",
       "      <td>0.436620</td>\n",
       "    </tr>\n",
       "    <tr>\n",
       "      <th>3</th>\n",
       "      <td>0.0</td>\n",
       "      <td>0.009346</td>\n",
       "      <td>0.000000</td>\n",
       "      <td>0.0</td>\n",
       "      <td>0.0</td>\n",
       "      <td>0.000000</td>\n",
       "      <td>0.000000</td>\n",
       "      <td>0.018519</td>\n",
       "      <td>0.0</td>\n",
       "      <td>0.0</td>\n",
       "      <td>...</td>\n",
       "      <td>0.0</td>\n",
       "      <td>0.0</td>\n",
       "      <td>economist</td>\n",
       "      <td>11.6</td>\n",
       "      <td>17.800000</td>\n",
       "      <td>5</td>\n",
       "      <td>7.626270</td>\n",
       "      <td>0.422222</td>\n",
       "      <td>0.255556</td>\n",
       "      <td>0.411111</td>\n",
       "    </tr>\n",
       "    <tr>\n",
       "      <th>4</th>\n",
       "      <td>0.0</td>\n",
       "      <td>0.000000</td>\n",
       "      <td>0.013889</td>\n",
       "      <td>0.0</td>\n",
       "      <td>0.0</td>\n",
       "      <td>0.000000</td>\n",
       "      <td>0.000000</td>\n",
       "      <td>0.000000</td>\n",
       "      <td>0.0</td>\n",
       "      <td>0.0</td>\n",
       "      <td>...</td>\n",
       "      <td>0.0</td>\n",
       "      <td>0.0</td>\n",
       "      <td>economist</td>\n",
       "      <td>13.6</td>\n",
       "      <td>18.666667</td>\n",
       "      <td>3</td>\n",
       "      <td>7.408704</td>\n",
       "      <td>0.362069</td>\n",
       "      <td>0.327586</td>\n",
       "      <td>0.344828</td>\n",
       "    </tr>\n",
       "  </tbody>\n",
       "</table>\n",
       "<p>5 rows × 24 columns</p>\n",
       "</div>"
      ],
      "text/plain": [
       "   (., '')  (PRP, VBD)        ``  (,, '')  ('', PRP, VBD)  (,, ADP)  \\\n",
       "0      0.0    0.000000  0.000000      0.0             0.0  0.013333   \n",
       "1      0.0    0.000000  0.000000      0.0             0.0  0.013514   \n",
       "2      0.0    0.000000  0.000000      0.0             0.0  0.012346   \n",
       "3      0.0    0.009346  0.000000      0.0             0.0  0.000000   \n",
       "4      0.0    0.000000  0.013889      0.0             0.0  0.000000   \n",
       "\n",
       "   (NOUN, VBD)       VBD  (VBD, .)  (VBD, ,)       ...         ('', PRP)  \\\n",
       "0     0.013333  0.013158       0.0       0.0       ...               0.0   \n",
       "1     0.000000  0.013333       0.0       0.0       ...               0.0   \n",
       "2     0.000000  0.000000       0.0       0.0       ...               0.0   \n",
       "3     0.000000  0.018519       0.0       0.0       ...               0.0   \n",
       "4     0.000000  0.000000       0.0       0.0       ...               0.0   \n",
       "\n",
       "   (,, VBD)     source  readability_SMOG  avg_sent_len  Num_Sentences  \\\n",
       "0       0.0  economist              11.2     20.666667              3   \n",
       "1       0.0  economist              10.7     17.000000              4   \n",
       "2       0.0  economist               5.7     13.800000              5   \n",
       "3       0.0  economist              11.6     17.800000              5   \n",
       "4       0.0  economist              13.6     18.666667              3   \n",
       "\n",
       "  sd_sent_len  norm_stop_freq  norm_punct_freq  norm_funct_freq  \n",
       "0   11.841546        0.421875         0.234375         0.390625  \n",
       "1    3.391165        0.500000         0.132353         0.470588  \n",
       "2    5.844656        0.422535         0.197183         0.436620  \n",
       "3    7.626270        0.422222         0.255556         0.411111  \n",
       "4    7.408704        0.362069         0.327586         0.344828  \n",
       "\n",
       "[5 rows x 24 columns]"
      ]
     },
     "execution_count": 3,
     "metadata": {},
     "output_type": "execute_result"
    }
   ],
   "source": [
    "df_features.head()"
   ]
  },
  {
   "cell_type": "code",
   "execution_count": 5,
   "metadata": {},
   "outputs": [
    {
     "name": "stdout",
     "output_type": "stream",
     "text": [
      "[('.', \"''\") ('PRP', 'VBD') '``' (',', \"''\") (\"''\", 'PRP', 'VBD')\n",
      " (',', 'ADP') ('NOUN', 'VBD') 'VBD' ('VBD', '.') ('VBD', ',')\n",
      " ('VBD', '.', '``') ('VBD', 'VERB') (\"''\", 'NOUN', 'VBD') ('.', '``')\n",
      " (\"''\", 'PRP') (',', 'VBD') 'source' 'readability_SMOG' 'avg_sent_len'\n",
      " 'Num_Sentences' 'sd_sent_len' 'norm_stop_freq' 'norm_punct_freq'\n",
      " 'norm_funct_freq']\n"
     ]
    }
   ],
   "source": [
    "print(df_features.columns.values)"
   ]
  },
  {
   "cell_type": "markdown",
   "metadata": {},
   "source": [
    "# A bunch of classifiers"
   ]
  },
  {
   "cell_type": "code",
   "execution_count": 9,
   "metadata": {},
   "outputs": [
    {
     "name": "stderr",
     "output_type": "stream",
     "text": [
      "/Users/sally/anaconda/lib/python3.6/site-packages/sklearn/cross_validation.py:41: DeprecationWarning: This module was deprecated in version 0.18 in favor of the model_selection module into which all the refactored classes and functions are moved. Also note that the interface of the new CV iterators are different from that of this module. This module will be removed in 0.20.\n",
      "  \"This module will be removed in 0.20.\", DeprecationWarning)\n"
     ]
    }
   ],
   "source": [
    "from sklearn.model_selection import train_test_split\n",
    "from sklearn import model_selection\n",
    "from sklearn.linear_model import LogisticRegression\n",
    "from sklearn.tree import DecisionTreeClassifier\n",
    "from sklearn.neighbors import KNeighborsClassifier\n",
    "from sklearn.discriminant_analysis import LinearDiscriminantAnalysis\n",
    "from sklearn.naive_bayes import GaussianNB\n",
    "from sklearn.svm import SVC\n",
    "from sklearn.metrics import classification_report\n",
    "from sklearn.metrics import precision_recall_fscore_support,accuracy_score,f1_score,precision_score,recall_score\n",
    "from xgboost import XGBClassifier"
   ]
  },
  {
   "cell_type": "code",
   "execution_count": 58,
   "metadata": {},
   "outputs": [],
   "source": [
    "# prepare models\n",
    "models = []\n",
    "models.append(('LR', LogisticRegression(multi_class='multinomial',solver='lbfgs')))\n",
    "#models.append(('LDA', LinearDiscriminantAnalysis()))\n",
    "models.append(('KNN', KNeighborsClassifier()))\n",
    "#models.append(('CART', DecisionTreeClassifier()))\n",
    "models.append(('NB', GaussianNB()))\n",
    "models.append(('XGBoost',XGBClassifier()))\n",
    "#models.append(('SVM', SVC(kernel = 'linear')))"
   ]
  },
  {
   "cell_type": "code",
   "execution_count": 53,
   "metadata": {},
   "outputs": [],
   "source": [
    "# XGBoost with best parameters\n",
    "\n",
    "models = [\n",
    "    ('XGBoost',XGBClassifier(n_estimators=400,\n",
    "                             objective= 'multi:softmax',\n",
    "                             seed=27,\n",
    "                             subsample= 0.4,\n",
    "                             min_child_weight= 3,\n",
    "                             max_depth= 5,\n",
    "                             learning_rate= 0.05,\n",
    "                             gamma= 0.75,\n",
    "                             colsample_bytree= 0.8))\n",
    "]"
   ]
  },
  {
   "cell_type": "code",
   "execution_count": 59,
   "metadata": {},
   "outputs": [
    {
     "name": "stdout",
     "output_type": "stream",
     "text": [
      "52812\n"
     ]
    }
   ],
   "source": [
    "# X -> features, y -> label\n",
    "X=df_features.loc[:, df_features.columns != 'source']\n",
    "\n",
    "#X=df_features[['readability_SMOG','avg_sent_len','sd_sent_len','norm_stop_freq','norm_punct_freq','norm_funct_freq']]\n",
    "y=df_features.source\n",
    "print(len(X))"
   ]
  },
  {
   "cell_type": "code",
   "execution_count": 60,
   "metadata": {},
   "outputs": [
    {
     "name": "stdout",
     "output_type": "stream",
     "text": [
      "Training  LR\n",
      "Getting testing error ...\n",
      "Getting training error ...\n",
      "\n",
      "\n",
      "Training  KNN\n",
      "Getting testing error ...\n",
      "Getting training error ...\n",
      "\n",
      "\n",
      "Training  NB\n",
      "Getting testing error ...\n",
      "Getting training error ...\n",
      "\n",
      "\n",
      "Training  XGBoost\n",
      "Getting testing error ...\n",
      "Getting training error ...\n",
      "\n",
      "\n"
     ]
    }
   ],
   "source": [
    "X_train, X_test, y_train, y_test = train_test_split(X, y,stratify=y,test_size=0.3, random_state = 0)\n",
    "\n",
    "val_accuracy_all={}\n",
    "val_fscore_all={}\n",
    "val_precision_all={}\n",
    "val_recall_all={}\n",
    "\n",
    "train_accuracy_all={}\n",
    "train_fscore_all={}\n",
    "train_precision_all={}\n",
    "train_recall_all={}\n",
    "\n",
    "for name,model in models:\n",
    "    \n",
    "    print('Training ', name)\n",
    "    clf=model.fit(X_train,y_train)\n",
    "    \n",
    "    print('Getting testing error ...')\n",
    "    y_pred=clf.predict(X_test)\n",
    "    \n",
    "    val_precision_all[name]=precision_score(y_test,y_pred,average='macro')\n",
    "    val_recall_all[name]=recall_score(y_test,y_pred,average='macro')\n",
    "    val_fscore_all[name]=f1_score(y_test, y_pred, average='macro')\n",
    "    val_accuracy_all[name]=accuracy_score(y_test, y_pred)\n",
    "\n",
    "    print('Getting training error ...')\n",
    "    y_train_pred=clf.predict(X_train)\n",
    "    \n",
    "    train_precision_all[name]=precision_score(y_train,y_train_pred,average='macro')\n",
    "    train_recall_all[name]=recall_score(y_train,y_train_pred,average='macro')\n",
    "    train_fscore_all[name]=f1_score(y_train,y_train_pred, average='macro')\n",
    "    train_accuracy_all[name]=accuracy_score(y_train,y_train_pred)\n",
    "    \n",
    "    print('\\n')\n",
    "\n",
    "val_classifier_results=pd.DataFrame({'Accuracy':pd.Series(val_accuracy_all),'Precision':pd.Series(val_precision_all),'Recall':pd.Series(val_recall_all),'F1_Score':pd.Series(val_fscore_all)}) \n",
    "\n",
    "train_classifier_results=pd.DataFrame({'Accuracy':pd.Series(train_accuracy_all),'Precision':pd.Series(train_precision_all),'Recall':pd.Series(train_recall_all),'F1_Score':pd.Series(train_fscore_all)})  \n",
    "\n"
   ]
  },
  {
   "cell_type": "code",
   "execution_count": 61,
   "metadata": {},
   "outputs": [
    {
     "name": "stdout",
     "output_type": "stream",
     "text": [
      "         Accuracy  F1_Score  Precision    Recall\n",
      "KNN      0.573171  0.566496   0.574451  0.578462\n",
      "LR       0.513255  0.497557   0.500262  0.501655\n",
      "NB       0.427586  0.410950   0.494164  0.448846\n",
      "XGBoost  0.621889  0.612228   0.609882  0.617588\n"
     ]
    }
   ],
   "source": [
    "print(train_classifier_results)"
   ]
  },
  {
   "cell_type": "code",
   "execution_count": 62,
   "metadata": {},
   "outputs": [
    {
     "name": "stdout",
     "output_type": "stream",
     "text": [
      "         Accuracy  F1_Score  Precision    Recall\n",
      "KNN      0.382984  0.374119   0.373405  0.385623\n",
      "LR       0.513065  0.495733   0.497527  0.500285\n",
      "NB       0.429500  0.412919   0.492705  0.450919\n",
      "XGBoost  0.609821  0.599761   0.596983  0.605205\n"
     ]
    }
   ],
   "source": [
    "print(val_classifier_results)"
   ]
  },
  {
   "cell_type": "code",
   "execution_count": 56,
   "metadata": {},
   "outputs": [
    {
     "name": "stdout",
     "output_type": "stream",
     "text": [
      "         Accuracy  F1_Score  Precision    Recall\n",
      "XGBoost  0.676504  0.669428   0.667634  0.673048\n"
     ]
    }
   ],
   "source": [
    "print(train_classifier_results)"
   ]
  },
  {
   "cell_type": "code",
   "execution_count": 57,
   "metadata": {},
   "outputs": [
    {
     "name": "stdout",
     "output_type": "stream",
     "text": [
      "         Accuracy  F1_Score  Precision    Recall\n",
      "XGBoost  0.631469  0.623216   0.620938  0.626912\n"
     ]
    }
   ],
   "source": [
    "print(val_classifier_results)"
   ]
  },
  {
   "cell_type": "markdown",
   "metadata": {},
   "source": [
    "# SVM"
   ]
  },
  {
   "cell_type": "code",
   "execution_count": null,
   "metadata": {
    "collapsed": true
   },
   "outputs": [],
   "source": [
    "# Grid search:\n",
    "\n",
    "# vary kernels\n",
    "# vary 'C'\n",
    "\n",
    "# Record testing error AND training error"
   ]
  },
  {
   "cell_type": "code",
   "execution_count": null,
   "metadata": {},
   "outputs": [],
   "source": [
    "#SVM with grid search. Needs to be completed\n",
    "\n",
    "tuned_parameters = [{'kernel': ['rbf'], 'gamma': [1e-3, 1e-4],\n",
    "                     'C': [1, 10, 100, 1000]},\n",
    "                    {'kernel': ['linear'], 'C': [1, 10, 100, 1000]}]\n",
    "\n",
    "scores = ['accuracy','precision_macro', 'recall_macro','f1_macro']\n",
    "\n",
    "for score in scores:\n",
    "    print(\"# Tuning hyper-parameters for %s\" % score)\n",
    "    print()\n",
    "\n",
    "    clf = GridSearchCV(SVC(), tuned_parameters, cv=5,\n",
    "                       scoring='%s' % score)\n",
    "    clf.fit(X_train, y_train)\n",
    "    \n",
    "    print(\"Best parameters set found on development set:\")\n",
    "    print()\n",
    "    print(clf.best_params_)\n",
    "\n"
   ]
  },
  {
   "cell_type": "markdown",
   "metadata": {},
   "source": [
    "# Logistic Regression"
   ]
  },
  {
   "cell_type": "code",
   "execution_count": null,
   "metadata": {
    "collapsed": true
   },
   "outputs": [],
   "source": [
    "# Try different regularization techniques\n",
    "\n",
    "# If it's not overfitting, maybe try adding in some interaction terms?"
   ]
  },
  {
   "cell_type": "markdown",
   "metadata": {},
   "source": [
    "# XGBOOST"
   ]
  },
  {
   "cell_type": "code",
   "execution_count": null,
   "metadata": {
    "scrolled": true
   },
   "outputs": [],
   "source": [
    "params = {'min_child_weight': [3, 5, 7],\n",
    "        'gamma': [0.65, 0.75, 0.85, 1],\n",
    "        'subsample': [0.3, 0.4, 0.5],\n",
    "        'colsample_bytree': [0.6, 0.8, 1.0],\n",
    "        'max_depth': [4, 5, 6],\n",
    "        'learning_rate': [0.03, 0.05, 0.07],\n",
    "        }\n",
    "\n",
    "skf = StratifiedKFold(n_splits=2, shuffle = True, random_state = 1001)\n",
    "\n",
    "xgb = XGBClassifier(n_estimators=400, \n",
    "                    objective= 'multi:softmax', \n",
    "                    seed=27)\n",
    "\n",
    "gsearch1 = GridSearchCV(estimator = xgb,\n",
    "                                    param_grid = params,\n",
    "                                    #n_iter=50,\n",
    "                                    scoring='accuracy',\n",
    "                                    verbose=3,\n",
    "                                    cv=skf.split(X_train,y_train),\n",
    "                                    return_train_score=True)\n",
    "\n",
    "gsearch1.fit(X_train,y_train)"
   ]
  },
  {
   "cell_type": "code",
   "execution_count": 36,
   "metadata": {},
   "outputs": [
    {
     "data": {
      "text/plain": [
       "({'colsample_bytree': 0.8,\n",
       "  'gamma': 0.75,\n",
       "  'learning_rate': 0.05,\n",
       "  'max_depth': 5,\n",
       "  'min_child_weight': 3,\n",
       "  'subsample': 0.4},\n",
       " 0.62637957152131574)"
      ]
     },
     "execution_count": 36,
     "metadata": {},
     "output_type": "execute_result"
    }
   ],
   "source": [
    "# Best parameters\n",
    "gsearch1.best_params_, gsearch1.best_score_"
   ]
  },
  {
   "cell_type": "code",
   "execution_count": null,
   "metadata": {},
   "outputs": [],
   "source": [
    "## If best param is largest or smallest tried, change range in grid search"
   ]
  },
  {
   "cell_type": "code",
   "execution_count": 45,
   "metadata": {},
   "outputs": [],
   "source": [
    "params2 = {'n_estimators': [300, 400, 500]\n",
    "        }\n",
    "\n",
    "xgb2 = XGBClassifier(#objective= 'multi:softmax',\n",
    "              seed=27,\n",
    "              #Add best params from gsearch1 here:\n",
    "              subsample= 0.4,\n",
    "              min_child_weight= 3,\n",
    "              max_depth= 5,\n",
    "              learning_rate= 0.05,\n",
    "              gamma= 0.75,\n",
    "              colsample_bytree= 0.8\n",
    "             )\n",
    "\n",
    "gsearch2 = GridSearchCV(estimator = xgb2, \n",
    "                        param_grid = params2, \n",
    "                        scoring='accuracy',\n",
    "                        cv=skf.split(X_train,y_train))"
   ]
  },
  {
   "cell_type": "code",
   "execution_count": 46,
   "metadata": {},
   "outputs": [
    {
     "data": {
      "text/plain": [
       "GridSearchCV(cv=<generator object _BaseKFold.split at 0x1a1f67e6d0>,\n",
       "       error_score='raise',\n",
       "       estimator=XGBClassifier(base_score=0.5, colsample_bylevel=1, colsample_bytree=0.8,\n",
       "       gamma=0.75, learning_rate=0.05, max_delta_step=0, max_depth=5,\n",
       "       min_child_weight=5, missing=None, n_estimators=100, nthread=-1,\n",
       "       objective='binary:logistic', reg_alpha=0, reg_lambda=1,\n",
       "       scale_pos_weight=1, seed=27, silent=True, subsample=0.4),\n",
       "       fit_params=None, iid=True, n_jobs=1,\n",
       "       param_grid={'n_estimators': [300, 400, 500]},\n",
       "       pre_dispatch='2*n_jobs', refit=True, return_train_score='warn',\n",
       "       scoring='accuracy', verbose=0)"
      ]
     },
     "execution_count": 46,
     "metadata": {},
     "output_type": "execute_result"
    }
   ],
   "source": [
    "gsearch2.fit(X_train,y_train)"
   ]
  },
  {
   "cell_type": "code",
   "execution_count": 47,
   "metadata": {},
   "outputs": [
    {
     "data": {
      "text/plain": [
       "({'n_estimators': 400}, 0.62529755464185244)"
      ]
     },
     "execution_count": 47,
     "metadata": {},
     "output_type": "execute_result"
    }
   ],
   "source": [
    "gsearch2.best_params_, gsearch2.best_score_"
   ]
  },
  {
   "cell_type": "code",
   "execution_count": 44,
   "metadata": {},
   "outputs": [
    {
     "data": {
      "text/plain": [
       "({'n_estimators': 400}, 0.62529755464185244)"
      ]
     },
     "execution_count": 44,
     "metadata": {},
     "output_type": "execute_result"
    }
   ],
   "source": [
    "#gsearch2.best_params_, gsearch2.best_score_"
   ]
  },
  {
   "cell_type": "code",
   "execution_count": 34,
   "metadata": {},
   "outputs": [
    {
     "data": {
      "text/plain": [
       "({'n_estimators': 300}, 0.62478359662410732)"
      ]
     },
     "execution_count": 34,
     "metadata": {},
     "output_type": "execute_result"
    }
   ],
   "source": [
    "#gsearch2.best_params_, gsearch2.best_score_"
   ]
  },
  {
   "cell_type": "code",
   "execution_count": 31,
   "metadata": {},
   "outputs": [
    {
     "data": {
      "text/plain": [
       "({'n_estimators': 600}, 0.62426963860636231)"
      ]
     },
     "execution_count": 31,
     "metadata": {},
     "output_type": "execute_result"
    }
   ],
   "source": [
    "#gsearch2.best_params_, gsearch2.best_score_"
   ]
  },
  {
   "cell_type": "code",
   "execution_count": null,
   "metadata": {},
   "outputs": [],
   "source": []
  }
 ],
 "metadata": {
  "kernelspec": {
   "display_name": "Python 3",
   "language": "python",
   "name": "python3"
  },
  "language_info": {
   "codemirror_mode": {
    "name": "ipython",
    "version": 3
   },
   "file_extension": ".py",
   "mimetype": "text/x-python",
   "name": "python",
   "nbconvert_exporter": "python",
   "pygments_lexer": "ipython3",
   "version": "3.6.5"
  }
 },
 "nbformat": 4,
 "nbformat_minor": 2
}
