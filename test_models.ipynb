{
 "cells": [
  {
   "cell_type": "code",
   "execution_count": 2,
   "metadata": {
    "collapsed": true
   },
   "outputs": [],
   "source": [
    "import pandas as pd\n",
    "import numpy as np\n",
    "import pickle"
   ]
  },
  {
   "cell_type": "markdown",
   "metadata": {},
   "source": [
    "# Import Dataframe"
   ]
  },
  {
   "cell_type": "code",
   "execution_count": 32,
   "metadata": {},
   "outputs": [],
   "source": [
    "# Load pickled dataframe\n",
    "\n",
    "file = 'pickles/features_04_30.pkl'\n",
    "\n",
    "with open(file, 'rb') as f:\n",
    "    df_features = pickle.load(f)"
   ]
  },
  {
   "cell_type": "code",
   "execution_count": 33,
   "metadata": {},
   "outputs": [
    {
     "data": {
      "text/html": [
       "<div>\n",
       "<style>\n",
       "    .dataframe thead tr:only-child th {\n",
       "        text-align: right;\n",
       "    }\n",
       "\n",
       "    .dataframe thead th {\n",
       "        text-align: left;\n",
       "    }\n",
       "\n",
       "    .dataframe tbody tr th {\n",
       "        vertical-align: top;\n",
       "    }\n",
       "</style>\n",
       "<table border=\"1\" class=\"dataframe\">\n",
       "  <thead>\n",
       "    <tr style=\"text-align: right;\">\n",
       "      <th></th>\n",
       "      <th>(., '')</th>\n",
       "      <th>(PRP, VBD)</th>\n",
       "      <th>``</th>\n",
       "      <th>(,, '')</th>\n",
       "      <th>('', PRP, VBD)</th>\n",
       "      <th>(,, ADP)</th>\n",
       "      <th>(NOUN, VBD)</th>\n",
       "      <th>VBD</th>\n",
       "      <th>(VBD, .)</th>\n",
       "      <th>(VBD, ,)</th>\n",
       "      <th>...</th>\n",
       "      <th>('', PRP)</th>\n",
       "      <th>(,, VBD)</th>\n",
       "      <th>source</th>\n",
       "      <th>readability_SMOG</th>\n",
       "      <th>avg_sent_len</th>\n",
       "      <th>Num_Sentences</th>\n",
       "      <th>sd_sent_len</th>\n",
       "      <th>norm_stop_freq</th>\n",
       "      <th>norm_punct_freq</th>\n",
       "      <th>norm_funct_freq</th>\n",
       "    </tr>\n",
       "  </thead>\n",
       "  <tbody>\n",
       "    <tr>\n",
       "      <th>0</th>\n",
       "      <td>0.0</td>\n",
       "      <td>0.000000</td>\n",
       "      <td>0.000000</td>\n",
       "      <td>0.0</td>\n",
       "      <td>0.0</td>\n",
       "      <td>0.013333</td>\n",
       "      <td>0.013333</td>\n",
       "      <td>0.013158</td>\n",
       "      <td>0.0</td>\n",
       "      <td>0.0</td>\n",
       "      <td>...</td>\n",
       "      <td>0.0</td>\n",
       "      <td>0.0</td>\n",
       "      <td>economist</td>\n",
       "      <td>11.2</td>\n",
       "      <td>20.666667</td>\n",
       "      <td>3</td>\n",
       "      <td>11.841546</td>\n",
       "      <td>0.421875</td>\n",
       "      <td>0.234375</td>\n",
       "      <td>0.390625</td>\n",
       "    </tr>\n",
       "    <tr>\n",
       "      <th>1</th>\n",
       "      <td>0.0</td>\n",
       "      <td>0.000000</td>\n",
       "      <td>0.000000</td>\n",
       "      <td>0.0</td>\n",
       "      <td>0.0</td>\n",
       "      <td>0.013514</td>\n",
       "      <td>0.000000</td>\n",
       "      <td>0.013333</td>\n",
       "      <td>0.0</td>\n",
       "      <td>0.0</td>\n",
       "      <td>...</td>\n",
       "      <td>0.0</td>\n",
       "      <td>0.0</td>\n",
       "      <td>economist</td>\n",
       "      <td>10.7</td>\n",
       "      <td>17.000000</td>\n",
       "      <td>4</td>\n",
       "      <td>3.391165</td>\n",
       "      <td>0.500000</td>\n",
       "      <td>0.132353</td>\n",
       "      <td>0.470588</td>\n",
       "    </tr>\n",
       "    <tr>\n",
       "      <th>2</th>\n",
       "      <td>0.0</td>\n",
       "      <td>0.000000</td>\n",
       "      <td>0.000000</td>\n",
       "      <td>0.0</td>\n",
       "      <td>0.0</td>\n",
       "      <td>0.012346</td>\n",
       "      <td>0.000000</td>\n",
       "      <td>0.000000</td>\n",
       "      <td>0.0</td>\n",
       "      <td>0.0</td>\n",
       "      <td>...</td>\n",
       "      <td>0.0</td>\n",
       "      <td>0.0</td>\n",
       "      <td>economist</td>\n",
       "      <td>5.7</td>\n",
       "      <td>13.800000</td>\n",
       "      <td>5</td>\n",
       "      <td>5.844656</td>\n",
       "      <td>0.422535</td>\n",
       "      <td>0.197183</td>\n",
       "      <td>0.436620</td>\n",
       "    </tr>\n",
       "    <tr>\n",
       "      <th>3</th>\n",
       "      <td>0.0</td>\n",
       "      <td>0.009346</td>\n",
       "      <td>0.000000</td>\n",
       "      <td>0.0</td>\n",
       "      <td>0.0</td>\n",
       "      <td>0.000000</td>\n",
       "      <td>0.000000</td>\n",
       "      <td>0.018519</td>\n",
       "      <td>0.0</td>\n",
       "      <td>0.0</td>\n",
       "      <td>...</td>\n",
       "      <td>0.0</td>\n",
       "      <td>0.0</td>\n",
       "      <td>economist</td>\n",
       "      <td>11.6</td>\n",
       "      <td>17.800000</td>\n",
       "      <td>5</td>\n",
       "      <td>7.626270</td>\n",
       "      <td>0.422222</td>\n",
       "      <td>0.255556</td>\n",
       "      <td>0.411111</td>\n",
       "    </tr>\n",
       "    <tr>\n",
       "      <th>4</th>\n",
       "      <td>0.0</td>\n",
       "      <td>0.000000</td>\n",
       "      <td>0.013889</td>\n",
       "      <td>0.0</td>\n",
       "      <td>0.0</td>\n",
       "      <td>0.000000</td>\n",
       "      <td>0.000000</td>\n",
       "      <td>0.000000</td>\n",
       "      <td>0.0</td>\n",
       "      <td>0.0</td>\n",
       "      <td>...</td>\n",
       "      <td>0.0</td>\n",
       "      <td>0.0</td>\n",
       "      <td>economist</td>\n",
       "      <td>13.6</td>\n",
       "      <td>18.666667</td>\n",
       "      <td>3</td>\n",
       "      <td>7.408704</td>\n",
       "      <td>0.362069</td>\n",
       "      <td>0.327586</td>\n",
       "      <td>0.344828</td>\n",
       "    </tr>\n",
       "  </tbody>\n",
       "</table>\n",
       "<p>5 rows × 24 columns</p>\n",
       "</div>"
      ],
      "text/plain": [
       "   (., '')  (PRP, VBD)        ``  (,, '')  ('', PRP, VBD)  (,, ADP)  \\\n",
       "0      0.0    0.000000  0.000000      0.0             0.0  0.013333   \n",
       "1      0.0    0.000000  0.000000      0.0             0.0  0.013514   \n",
       "2      0.0    0.000000  0.000000      0.0             0.0  0.012346   \n",
       "3      0.0    0.009346  0.000000      0.0             0.0  0.000000   \n",
       "4      0.0    0.000000  0.013889      0.0             0.0  0.000000   \n",
       "\n",
       "   (NOUN, VBD)       VBD  (VBD, .)  (VBD, ,)       ...         ('', PRP)  \\\n",
       "0     0.013333  0.013158       0.0       0.0       ...               0.0   \n",
       "1     0.000000  0.013333       0.0       0.0       ...               0.0   \n",
       "2     0.000000  0.000000       0.0       0.0       ...               0.0   \n",
       "3     0.000000  0.018519       0.0       0.0       ...               0.0   \n",
       "4     0.000000  0.000000       0.0       0.0       ...               0.0   \n",
       "\n",
       "   (,, VBD)     source  readability_SMOG  avg_sent_len  Num_Sentences  \\\n",
       "0       0.0  economist              11.2     20.666667              3   \n",
       "1       0.0  economist              10.7     17.000000              4   \n",
       "2       0.0  economist               5.7     13.800000              5   \n",
       "3       0.0  economist              11.6     17.800000              5   \n",
       "4       0.0  economist              13.6     18.666667              3   \n",
       "\n",
       "  sd_sent_len  norm_stop_freq  norm_punct_freq  norm_funct_freq  \n",
       "0   11.841546        0.421875         0.234375         0.390625  \n",
       "1    3.391165        0.500000         0.132353         0.470588  \n",
       "2    5.844656        0.422535         0.197183         0.436620  \n",
       "3    7.626270        0.422222         0.255556         0.411111  \n",
       "4    7.408704        0.362069         0.327586         0.344828  \n",
       "\n",
       "[5 rows x 24 columns]"
      ]
     },
     "execution_count": 33,
     "metadata": {},
     "output_type": "execute_result"
    }
   ],
   "source": [
    "df_features.head()"
   ]
  },
  {
   "cell_type": "markdown",
   "metadata": {},
   "source": [
    "# A bunch of classifiers"
   ]
  },
  {
   "cell_type": "code",
   "execution_count": 27,
   "metadata": {
    "collapsed": true
   },
   "outputs": [],
   "source": [
    "from sklearn.model_selection import train_test_split\n",
    "from sklearn import model_selection\n",
    "from sklearn.linear_model import LogisticRegression\n",
    "from sklearn.tree import DecisionTreeClassifier\n",
    "from sklearn.neighbors import KNeighborsClassifier\n",
    "from sklearn.discriminant_analysis import LinearDiscriminantAnalysis\n",
    "from sklearn.naive_bayes import GaussianNB\n",
    "from sklearn.svm import SVC\n",
    "from sklearn.metrics import classification_report\n",
    "from sklearn.metrics import precision_recall_fscore_support,accuracy_score,f1_score,precision_score,recall_score\n",
    "from xgboost import XGBClassifier"
   ]
  },
  {
   "cell_type": "code",
   "execution_count": 38,
   "metadata": {
    "collapsed": true
   },
   "outputs": [],
   "source": [
    "# prepare models\n",
    "models = []\n",
    "models.append(('LR', LogisticRegression(multi_class='multinomial',solver='lbfgs')))\n",
    "models.append(('LDA', LinearDiscriminantAnalysis()))\n",
    "models.append(('KNN', KNeighborsClassifier()))\n",
    "models.append(('CART', DecisionTreeClassifier()))\n",
    "models.append(('NB', GaussianNB()))\n",
    "models.append(('XGBoost',XGBClassifier( n_estimators=1000)))\n",
    "#models.append(('SVM', SVC(kernel = 'linear')))"
   ]
  },
  {
   "cell_type": "code",
   "execution_count": 34,
   "metadata": {},
   "outputs": [
    {
     "name": "stdout",
     "output_type": "stream",
     "text": [
      "52812\n"
     ]
    }
   ],
   "source": [
    "# X -> features, y -> label\n",
    "X=df_features.loc[:, df_features.columns != 'source']\n",
    "\n",
    "#X=df_features[['readability_SMOG','avg_sent_len','sd_sent_len','norm_stop_freq','norm_punct_freq','norm_funct_freq']]\n",
    "y=df_features.source\n",
    "print(len(X))"
   ]
  },
  {
   "cell_type": "code",
   "execution_count": 39,
   "metadata": {},
   "outputs": [
    {
     "name": "stdout",
     "output_type": "stream",
     "text": [
      "Training\n",
      "Testing\n",
      "LR\n",
      "Training\n",
      "Testing\n",
      "LDA\n",
      "Training\n",
      "Testing\n",
      "KNN\n",
      "Training\n",
      "Testing\n",
      "CART\n",
      "Training\n",
      "Testing\n",
      "NB\n",
      "Training\n",
      "Testing\n",
      "XGBoost\n"
     ]
    }
   ],
   "source": [
    "X_train, X_test, y_train, y_test = train_test_split(X, y,stratify=y,test_size=0.3, random_state = 0)\n",
    "\n",
    "val_accuracy_all={}\n",
    "val_fscore_all={}\n",
    "val_precision_all={}\n",
    "val_recall_all={}\n",
    "\n",
    "train_accuracy_all={}\n",
    "train_fscore_all={}\n",
    "train_precision_all={}\n",
    "train_recall_all={}\n",
    "\n",
    "for name,model in models:\n",
    "    print('Training')\n",
    "    clf=model.fit(X_train,y_train)\n",
    "    print('Testing')\n",
    "    y_pred=clf.predict(X_test)\n",
    "    print(name)\n",
    "    val_precision_all[name]=precision_score(y_test,y_pred,average='macro')\n",
    "    val_recall_all[name]=recall_score(y_test,y_pred,average='macro')\n",
    "    val_fscore_all[name]=f1_score(y_test, y_pred, average='macro')\n",
    "    val_accuracy_all[name]=accuracy_score(y_test, y_pred)\n",
    "\n",
    "    y_train_pred=clf.predict(X_train)\n",
    "    train_precision_all[name]=precision_score(y_train,y_train_pred,average='macro')\n",
    "    train_recall_all[name]=recall_score(y_train,y_train_pred,average='macro')\n",
    "    train_fscore_all[name]=f1_score(y_train,y_train_pred, average='macro')\n",
    "    train_accuracy_all[name]=accuracy_score(y_train,y_train_pred)\n",
    "\n",
    "val_classifier_results=pd.DataFrame({'Accuracy':pd.Series(val_accuracy_all),'Precision':pd.Series(val_precision_all),'Recall':pd.Series(val_recall_all),'F1_Score':pd.Series(val_fscore_all)}) \n",
    "\n",
    "train_classifier_results=pd.DataFrame({'Accuracy':pd.Series(train_accuracy_all),'Precision':pd.Series(train_precision_all),'Recall':pd.Series(train_recall_all),'F1_Score':pd.Series(train_fscore_all)})  \n",
    "\n"
   ]
  },
  {
   "cell_type": "code",
   "execution_count": 40,
   "metadata": {},
   "outputs": [
    {
     "name": "stdout",
     "output_type": "stream",
     "text": [
      "         Accuracy  F1_Score  Precision    Recall\n",
      "CART     0.999540  0.999534   0.999514  0.999555\n",
      "KNN      0.573171  0.566496   0.574451  0.578462\n",
      "LDA      0.586372  0.579189   0.578624  0.581168\n",
      "LR       0.513255  0.497557   0.500262  0.501655\n",
      "NB       0.427586  0.410950   0.494164  0.448846\n",
      "XGBoost  0.693681  0.687154   0.685473  0.690629\n"
     ]
    }
   ],
   "source": [
    "print(train_classifier_results)"
   ]
  },
  {
   "cell_type": "code",
   "execution_count": 41,
   "metadata": {},
   "outputs": [
    {
     "name": "stdout",
     "output_type": "stream",
     "text": [
      "         Accuracy  F1_Score  Precision    Recall\n",
      "CART     0.501704  0.494884   0.495133  0.494662\n",
      "KNN      0.382984  0.374119   0.373405  0.385623\n",
      "LDA      0.586026  0.578886   0.577916  0.580324\n",
      "LR       0.513065  0.495733   0.497527  0.500285\n",
      "NB       0.429500  0.412919   0.492705  0.450919\n",
      "XGBoost  0.629702  0.621602   0.619203  0.625379\n"
     ]
    }
   ],
   "source": [
    "print(val_classifier_results)"
   ]
  },
  {
   "cell_type": "markdown",
   "metadata": {},
   "source": [
    "# SVM"
   ]
  },
  {
   "cell_type": "code",
   "execution_count": null,
   "metadata": {
    "collapsed": true
   },
   "outputs": [],
   "source": [
    "# Grid search:\n",
    "\n",
    "# vary kernels\n",
    "# vary 'C'\n",
    "\n",
    "# Record testing error AND training error"
   ]
  },
  {
   "cell_type": "code",
   "execution_count": null,
   "metadata": {},
   "outputs": [],
   "source": [
    "#SVM with grid search. Needs to be completed\n",
    "from sklearn.model_selection import GridSearchCV\n",
    "from sklearn.metrics import classification_report\n",
    "from sklearn.svm import SVC\n",
    "\n",
    "tuned_parameters = [{'kernel': ['rbf'], 'gamma': [1e-3, 1e-4],\n",
    "                     'C': [1, 10, 100, 1000]},\n",
    "                    {'kernel': ['linear'], 'C': [1, 10, 100, 1000]}]\n",
    "\n",
    "scores = ['accuracy','precision_macro', 'recall_macro','f1_macro']\n",
    "\n",
    "for score in scores:\n",
    "    print(\"# Tuning hyper-parameters for %s\" % score)\n",
    "    print()\n",
    "\n",
    "    clf = GridSearchCV(SVC(), tuned_parameters, cv=5,\n",
    "                       scoring='%s' % score)\n",
    "    clf.fit(X_train, y_train)\n",
    "    \n",
    "    print(\"Best parameters set found on development set:\")\n",
    "    print()\n",
    "    print(clf.best_params_)\n",
    "\n"
   ]
  },
  {
   "cell_type": "markdown",
   "metadata": {},
   "source": [
    "# Logistic Regression"
   ]
  },
  {
   "cell_type": "code",
   "execution_count": null,
   "metadata": {
    "collapsed": true
   },
   "outputs": [],
   "source": [
    "# Try different regularization techniques\n",
    "\n",
    "# If it's not overfitting, maybe try adding in some interaction terms?"
   ]
  },
  {
   "cell_type": "markdown",
   "metadata": {},
   "source": [
    "# XGBOOST"
   ]
  },
  {
   "cell_type": "code",
   "execution_count": 48,
   "metadata": {},
   "outputs": [],
   "source": [
    "params = {'min_child_weight': [1, 5, 10],\n",
    "        'gamma': [0,0.5, 1, 1.5, 2, 5],\n",
    "        'subsample': [0.6, 0.8, 1.0],\n",
    "        'colsample_bytree': [0.6, 0.8, 1.0],\n",
    "        'max_depth': [3, 4, 5],\n",
    "        'learning_rate': [0.05, 0.1, 0.2],\n",
    "        }\n",
    "\n",
    "\n",
    "gsearch1 = GridSearchCV(estimator = XGBClassifier(n_estimators=300,  \n",
    "                                                  objective= 'multi:softmax',\n",
    "                                                  num_class=4, \n",
    "                                                  nthread=4, seed=27), \n",
    "                        param_grid = params, \n",
    "                        scoring='accuracy',\n",
    "                        n_jobs=4,\n",
    "                        iid=False, \n",
    "                        cv=4)\n"
   ]
  },
  {
   "cell_type": "code",
   "execution_count": null,
   "metadata": {},
   "outputs": [],
   "source": [
    "gsearch1.fit(X_train,y_train)"
   ]
  },
  {
   "cell_type": "code",
   "execution_count": null,
   "metadata": {
    "collapsed": true
   },
   "outputs": [],
   "source": [
    "#Observe The best params and substitute please?\n",
    "gsearch1.best_params_, gsearch1.best_score_"
   ]
  },
  {
   "cell_type": "code",
   "execution_count": 1,
   "metadata": {
    "collapsed": true
   },
   "outputs": [],
   "source": [
    "params2 = {'n_estimators': [300, 600, 1000,1500,2000,3000]\n",
    "        }\n",
    "gsearch2 = GridSearchCV(estimator = XGBClassifier(#Add best params from gsearch1 here\n",
    "                                                  objective= 'multi:softmax',\n",
    "                                                  num_class=4, \n",
    "                                                  nthread=4, seed=27), \n",
    "                        param_grid = params2, \n",
    "                        scoring='accuracy',\n",
    "                        n_jobs=4,\n",
    "                        iid=False, \n",
    "                        cv=4)"
   ]
  },
  {
   "cell_type": "code",
   "execution_count": null,
   "metadata": {
    "collapsed": true
   },
   "outputs": [],
   "source": [
    "gsearch2.fit(X_train,y_train)"
   ]
  },
  {
   "cell_type": "code",
   "execution_count": null,
   "metadata": {
    "collapsed": true
   },
   "outputs": [],
   "source": [
    "gsearch2.best_params_, gsearch2.best_score_"
   ]
  }
 ],
 "metadata": {
  "kernelspec": {
   "display_name": "Python 3",
   "language": "python",
   "name": "python3"
  },
  "language_info": {
   "codemirror_mode": {
    "name": "ipython",
    "version": 3
   },
   "file_extension": ".py",
   "mimetype": "text/x-python",
   "name": "python",
   "nbconvert_exporter": "python",
   "pygments_lexer": "ipython3",
   "version": "3.6.3"
  }
 },
 "nbformat": 4,
 "nbformat_minor": 2
}
